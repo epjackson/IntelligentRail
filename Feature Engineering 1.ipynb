{
 "cells": [
  {
   "cell_type": "markdown",
   "metadata": {},
   "source": [
    "# INTELLIGENT RAIL"
   ]
  },
  {
   "cell_type": "markdown",
   "metadata": {},
   "source": [
    "## Edward Jackson"
   ]
  },
  {
   "cell_type": "markdown",
   "metadata": {},
   "source": [
    "###### Notebook 1 of 6 (feature engineering - maintenance data)"
   ]
  },
  {
   "cell_type": "code",
   "execution_count": 432,
   "metadata": {},
   "outputs": [],
   "source": [
    "import pandas as pd\n",
    "import numpy as np\n",
    "import matplotlib.pyplot as plt\n",
    "%matplotlib inline\n",
    "\n",
    "from google_trans_new import google_translator  "
   ]
  },
  {
   "cell_type": "code",
   "execution_count": 433,
   "metadata": {
    "scrolled": true
   },
   "outputs": [],
   "source": [
    "data = pd.read_csv('data/interceptions_programmees_sur_ligne.csv', delimiter=';')"
   ]
  },
  {
   "cell_type": "markdown",
   "metadata": {},
   "source": [
    " "
   ]
  },
  {
   "cell_type": "markdown",
   "metadata": {},
   "source": [
    "### Data wrangling - network maintenance data"
   ]
  },
  {
   "cell_type": "code",
   "execution_count": 434,
   "metadata": {},
   "outputs": [
    {
     "data": {
      "text/plain": [
       "(98037, 9)"
      ]
     },
     "execution_count": 434,
     "metadata": {},
     "output_type": "execute_result"
    }
   ],
   "source": [
    "data.shape"
   ]
  },
  {
   "cell_type": "code",
   "execution_count": 435,
   "metadata": {},
   "outputs": [
    {
     "data": {
      "text/html": [
       "<div>\n",
       "<style scoped>\n",
       "    .dataframe tbody tr th:only-of-type {\n",
       "        vertical-align: middle;\n",
       "    }\n",
       "\n",
       "    .dataframe tbody tr th {\n",
       "        vertical-align: top;\n",
       "    }\n",
       "\n",
       "    .dataframe thead th {\n",
       "        text-align: right;\n",
       "    }\n",
       "</style>\n",
       "<table border=\"1\" class=\"dataframe\">\n",
       "  <thead>\n",
       "    <tr style=\"text-align: right;\">\n",
       "      <th></th>\n",
       "      <th>LIB_STRUCTDEM</th>\n",
       "      <th>COD_LIGNE</th>\n",
       "      <th>LIB_LIGNE</th>\n",
       "      <th>PK_DEBM</th>\n",
       "      <th>PK_FINM</th>\n",
       "      <th>FAMILLETRAVAUX</th>\n",
       "      <th>NB_INTERVENTIONS</th>\n",
       "      <th>NUM_SEMAINE</th>\n",
       "      <th>ANNEE</th>\n",
       "    </tr>\n",
       "  </thead>\n",
       "  <tbody>\n",
       "    <tr>\n",
       "      <th>94618</th>\n",
       "      <td>Siège INFRAPOLE Paris Rive Gauche</td>\n",
       "      <td>570000</td>\n",
       "      <td>Ligne de Paris-Austerlitz à Bordeaux-St-Jean</td>\n",
       "      <td>0</td>\n",
       "      <td>82531</td>\n",
       "      <td>entretien des caténaires</td>\n",
       "      <td>20</td>\n",
       "      <td>27.0</td>\n",
       "      <td>2017.0</td>\n",
       "    </tr>\n",
       "    <tr>\n",
       "      <th>13187</th>\n",
       "      <td>Siège INFRAPOLE Est-Européen</td>\n",
       "      <td>5000</td>\n",
       "      <td>Ligne de Paris à Strasbourg (LGV)</td>\n",
       "      <td>0</td>\n",
       "      <td>406015</td>\n",
       "      <td>entretien et travaux divers</td>\n",
       "      <td>2</td>\n",
       "      <td>26.0</td>\n",
       "      <td>2020.0</td>\n",
       "    </tr>\n",
       "    <tr>\n",
       "      <th>85295</th>\n",
       "      <td>Siège INFRAPOLE Alpes</td>\n",
       "      <td>880000</td>\n",
       "      <td>Ligne de Mouchard à Bourg-en-Bresse</td>\n",
       "      <td>478625</td>\n",
       "      <td>506164</td>\n",
       "      <td>entretien des caténaires</td>\n",
       "      <td>2</td>\n",
       "      <td>17.0</td>\n",
       "      <td>2017.0</td>\n",
       "    </tr>\n",
       "    <tr>\n",
       "      <th>19932</th>\n",
       "      <td>Siège INFRAPOLE PACA</td>\n",
       "      <td>946000</td>\n",
       "      <td>Ligne de Coni à Vintimille</td>\n",
       "      <td>31800</td>\n",
       "      <td>99388</td>\n",
       "      <td>entretien de la signalisation</td>\n",
       "      <td>1</td>\n",
       "      <td>36.0</td>\n",
       "      <td>2020.0</td>\n",
       "    </tr>\n",
       "    <tr>\n",
       "      <th>8384</th>\n",
       "      <td>Siège INFRAPOLE Pays-de-Loire</td>\n",
       "      <td>470000</td>\n",
       "      <td>Ligne de Savenay à Landerneau</td>\n",
       "      <td>469737</td>\n",
       "      <td>504508</td>\n",
       "      <td>entretien de la signalisation</td>\n",
       "      <td>4</td>\n",
       "      <td>2.0</td>\n",
       "      <td>2020.0</td>\n",
       "    </tr>\n",
       "    <tr>\n",
       "      <th>32242</th>\n",
       "      <td>Siège INFRAPOLE Languedoc-Roussillon</td>\n",
       "      <td>810000</td>\n",
       "      <td>Ligne de Tarascon à Sète-Ville</td>\n",
       "      <td>0</td>\n",
       "      <td>800</td>\n",
       "      <td>entretien de la signalisation</td>\n",
       "      <td>9</td>\n",
       "      <td>40.0</td>\n",
       "      <td>2019.0</td>\n",
       "    </tr>\n",
       "    <tr>\n",
       "      <th>92248</th>\n",
       "      <td>Siège INFRAPOLE Champagne-Ardenne</td>\n",
       "      <td>12000</td>\n",
       "      <td>Ligne de Troyes à Brienne-le-Château</td>\n",
       "      <td>169997</td>\n",
       "      <td>207800</td>\n",
       "      <td>entretien de la voie</td>\n",
       "      <td>2</td>\n",
       "      <td>28.0</td>\n",
       "      <td>2017.0</td>\n",
       "    </tr>\n",
       "    <tr>\n",
       "      <th>66759</th>\n",
       "      <td>Siège INFRAPOLE Champagne-Ardenne</td>\n",
       "      <td>204000</td>\n",
       "      <td>Ligne de Mohon à Thionville</td>\n",
       "      <td>-58</td>\n",
       "      <td>193021</td>\n",
       "      <td>entretien et travaux divers</td>\n",
       "      <td>22</td>\n",
       "      <td>42.0</td>\n",
       "      <td>2018.0</td>\n",
       "    </tr>\n",
       "    <tr>\n",
       "      <th>82840</th>\n",
       "      <td>Siège INFRAPOLE Rhodanien</td>\n",
       "      <td>890000</td>\n",
       "      <td>Ligne de Lyon-Perrache à Genève (frontière)</td>\n",
       "      <td>8120</td>\n",
       "      <td>43428</td>\n",
       "      <td>entretien et travaux divers</td>\n",
       "      <td>3</td>\n",
       "      <td>47.0</td>\n",
       "      <td>2017.0</td>\n",
       "    </tr>\n",
       "    <tr>\n",
       "      <th>64728</th>\n",
       "      <td>Siège INFRAPOLE Aquitaine</td>\n",
       "      <td>655000</td>\n",
       "      <td>Ligne de Bordeaux-St-Jean à Irun</td>\n",
       "      <td>0</td>\n",
       "      <td>95310</td>\n",
       "      <td>entretien des caténaires</td>\n",
       "      <td>37</td>\n",
       "      <td>23.0</td>\n",
       "      <td>2018.0</td>\n",
       "    </tr>\n",
       "  </tbody>\n",
       "</table>\n",
       "</div>"
      ],
      "text/plain": [
       "                              LIB_STRUCTDEM  COD_LIGNE  \\\n",
       "94618     Siège INFRAPOLE Paris Rive Gauche     570000   \n",
       "13187          Siège INFRAPOLE Est-Européen       5000   \n",
       "85295                 Siège INFRAPOLE Alpes     880000   \n",
       "19932                  Siège INFRAPOLE PACA     946000   \n",
       "8384          Siège INFRAPOLE Pays-de-Loire     470000   \n",
       "32242  Siège INFRAPOLE Languedoc-Roussillon     810000   \n",
       "92248     Siège INFRAPOLE Champagne-Ardenne      12000   \n",
       "66759     Siège INFRAPOLE Champagne-Ardenne     204000   \n",
       "82840             Siège INFRAPOLE Rhodanien     890000   \n",
       "64728             Siège INFRAPOLE Aquitaine     655000   \n",
       "\n",
       "                                          LIB_LIGNE  PK_DEBM  PK_FINM  \\\n",
       "94618  Ligne de Paris-Austerlitz à Bordeaux-St-Jean        0    82531   \n",
       "13187             Ligne de Paris à Strasbourg (LGV)        0   406015   \n",
       "85295           Ligne de Mouchard à Bourg-en-Bresse   478625   506164   \n",
       "19932                    Ligne de Coni à Vintimille    31800    99388   \n",
       "8384                  Ligne de Savenay à Landerneau   469737   504508   \n",
       "32242                Ligne de Tarascon à Sète-Ville        0      800   \n",
       "92248          Ligne de Troyes à Brienne-le-Château   169997   207800   \n",
       "66759                   Ligne de Mohon à Thionville      -58   193021   \n",
       "82840   Ligne de Lyon-Perrache à Genève (frontière)     8120    43428   \n",
       "64728              Ligne de Bordeaux-St-Jean à Irun        0    95310   \n",
       "\n",
       "                      FAMILLETRAVAUX  NB_INTERVENTIONS  NUM_SEMAINE   ANNEE  \n",
       "94618       entretien des caténaires                20         27.0  2017.0  \n",
       "13187    entretien et travaux divers                 2         26.0  2020.0  \n",
       "85295       entretien des caténaires                 2         17.0  2017.0  \n",
       "19932  entretien de la signalisation                 1         36.0  2020.0  \n",
       "8384   entretien de la signalisation                 4          2.0  2020.0  \n",
       "32242  entretien de la signalisation                 9         40.0  2019.0  \n",
       "92248           entretien de la voie                 2         28.0  2017.0  \n",
       "66759    entretien et travaux divers                22         42.0  2018.0  \n",
       "82840    entretien et travaux divers                 3         47.0  2017.0  \n",
       "64728       entretien des caténaires                37         23.0  2018.0  "
      ]
     },
     "execution_count": 435,
     "metadata": {},
     "output_type": "execute_result"
    }
   ],
   "source": [
    "data.sample(10)"
   ]
  },
  {
   "cell_type": "markdown",
   "metadata": {},
   "source": [
    " "
   ]
  },
  {
   "cell_type": "markdown",
   "metadata": {},
   "source": [
    "#### Data dictionary"
   ]
  },
  {
   "cell_type": "markdown",
   "metadata": {},
   "source": [
    "There are 98,037 rows across 9 columns:\n",
    "- **LIB_STRUCTDEM** - the regional headquarters responsible for maintenance in an area\n",
    "- **COD_LIGNE** - the unique track numbers (generally speaking, the last 3 digits refer to specific features/sections on a line and leading digits reference a complete line)\n",
    "- **LIB_LIGNE** - a locator description of the section of track\n",
    "- **PK_DEBM** and **PK_FINM** - start/finish reference markers on the line\n",
    "- **FAMILLETRAVAUX** - category of works\n",
    "- **NB_INTERVENTIONS** - duration of works\n",
    "- **NUM_SEMAINE** - week number when works commenced\n",
    "- **ANNEE** - year"
   ]
  },
  {
   "cell_type": "markdown",
   "metadata": {},
   "source": [
    " "
   ]
  },
  {
   "cell_type": "code",
   "execution_count": 436,
   "metadata": {},
   "outputs": [
    {
     "data": {
      "text/plain": [
       "array(['Siège INFRAPOLE Alpes', 'Siège INFRAPOLE Aquitaine',\n",
       "       'Siège INFRAPOLE Auvergne Nivernais',\n",
       "       'Siège INFRAPOLE Bourgogne Franche-Comté',\n",
       "       'Siège INFRAPOLE Bretagne', 'Siège INFRAPOLE Centre',\n",
       "       'Siège INFRAPOLE Champagne-Ardenne',\n",
       "       'Siège INFRAPOLE Haute-Picardie', 'Siège INFRAPOLE Est-Européen',\n",
       "       'Siège INFRAPOLE Indre Limousin',\n",
       "       'Siège INFRAPOLE Languedoc-Roussillon',\n",
       "       'Siège INFRAPOLE LGV Sud Est Européen', 'Siège INFRAPOLE Lorraine',\n",
       "       'Siège INFRAPOLE Midi-Pyrénées',\n",
       "       'Siège INFRAPOLE Nord-Pas-de-Calais', 'Siège INFRAPOLE Normandie',\n",
       "       'Siège INFRAPOLE PACA', 'Siège INFRAPOLE Paris Saint-Lazare',\n",
       "       'Siège INFRAPOLE Paris-Est', 'Siège INFRAPOLE Paris-Nord',\n",
       "       'Siège INFRAPOLE Pays-de-Loire', 'Siège INFRAPOLE Paris-Sud-Est',\n",
       "       'Siège INFRAPOLE Poitou-Charentes', 'Siège INFRAPOLE Rhénan',\n",
       "       'Siège INFRAPOLE Rhodanien', 'Siège INFRAPOLE LGV Atlantique',\n",
       "       'Siège INFRAPOLE Nord Européen',\n",
       "       'Siège INFRAPOLE Paris Rive Gauche',\n",
       "       'Siège INFRAPOLE Ouest Parisien'], dtype=object)"
      ]
     },
     "execution_count": 436,
     "metadata": {},
     "output_type": "execute_result"
    }
   ],
   "source": [
    "data['LIB_STRUCTDEM'].unique()"
   ]
  },
  {
   "cell_type": "markdown",
   "metadata": {},
   "source": [
    "We can see that a number of the French regions are embedded in the first column. Alongside the data in **COD_LIGNE**, this could be developed to provide a key to join with the punctuality data."
   ]
  },
  {
   "cell_type": "code",
   "execution_count": 437,
   "metadata": {},
   "outputs": [
    {
     "name": "stdout",
     "output_type": "stream",
     "text": [
      "<class 'pandas.core.frame.DataFrame'>\n",
      "RangeIndex: 98037 entries, 0 to 98036\n",
      "Data columns (total 9 columns):\n",
      " #   Column            Non-Null Count  Dtype  \n",
      "---  ------            --------------  -----  \n",
      " 0   LIB_STRUCTDEM     98037 non-null  object \n",
      " 1   COD_LIGNE         98037 non-null  int64  \n",
      " 2   LIB_LIGNE         98037 non-null  object \n",
      " 3   PK_DEBM           98037 non-null  int64  \n",
      " 4   PK_FINM           98037 non-null  int64  \n",
      " 5   FAMILLETRAVAUX    98037 non-null  object \n",
      " 6   NB_INTERVENTIONS  98037 non-null  int64  \n",
      " 7   NUM_SEMAINE       96904 non-null  float64\n",
      " 8   ANNEE             96904 non-null  float64\n",
      "dtypes: float64(2), int64(4), object(3)\n",
      "memory usage: 6.7+ MB\n"
     ]
    }
   ],
   "source": [
    "data.info()"
   ]
  },
  {
   "cell_type": "markdown",
   "metadata": {},
   "source": [
    "In order to proceed with this initial cleaning, we need to set the data type of our line codes to *string* as they are labels rather than continuous values."
   ]
  },
  {
   "cell_type": "code",
   "execution_count": 438,
   "metadata": {},
   "outputs": [],
   "source": [
    "data['COD_LIGNE'] = data['COD_LIGNE'].astype('str')"
   ]
  },
  {
   "cell_type": "markdown",
   "metadata": {},
   "source": [
    "We already know the lines used on the high-speed network. Notice that most are suffixed with '000'. These will need to be updated to be compatible with the line codes in our other data."
   ]
  },
  {
   "cell_type": "code",
   "execution_count": 439,
   "metadata": {},
   "outputs": [],
   "source": [
    "# line codes known from cleaning of line data\n",
    "lgv_lines = ['905000', '830000', '1000', '70000', '750000', '640000', '752000',\n",
    "       '897000', '14000', '900000', '677000', '420000', '930000',\n",
    "       '890000', '515000', '538000', '850000', '468000', '226000',\n",
    "       '441000', '470000', '278000', '429000', '431000', '89000', '5000',\n",
    "       '301000', '752100', '262000', '450000', '216000', '226310',\n",
    "       '834000', '768300']"
   ]
  },
  {
   "cell_type": "code",
   "execution_count": 440,
   "metadata": {},
   "outputs": [],
   "source": [
    "lgv_rows = data[data['COD_LIGNE'].isin(lgv_lines)]"
   ]
  },
  {
   "cell_type": "code",
   "execution_count": 441,
   "metadata": {},
   "outputs": [
    {
     "data": {
      "text/html": [
       "<div>\n",
       "<style scoped>\n",
       "    .dataframe tbody tr th:only-of-type {\n",
       "        vertical-align: middle;\n",
       "    }\n",
       "\n",
       "    .dataframe tbody tr th {\n",
       "        vertical-align: top;\n",
       "    }\n",
       "\n",
       "    .dataframe thead th {\n",
       "        text-align: right;\n",
       "    }\n",
       "</style>\n",
       "<table border=\"1\" class=\"dataframe\">\n",
       "  <thead>\n",
       "    <tr style=\"text-align: right;\">\n",
       "      <th></th>\n",
       "      <th>LIB_STRUCTDEM</th>\n",
       "      <th>COD_LIGNE</th>\n",
       "      <th>LIB_LIGNE</th>\n",
       "      <th>PK_DEBM</th>\n",
       "      <th>PK_FINM</th>\n",
       "      <th>FAMILLETRAVAUX</th>\n",
       "      <th>NB_INTERVENTIONS</th>\n",
       "      <th>NUM_SEMAINE</th>\n",
       "      <th>ANNEE</th>\n",
       "    </tr>\n",
       "  </thead>\n",
       "  <tbody>\n",
       "    <tr>\n",
       "      <th>0</th>\n",
       "      <td>Siège INFRAPOLE Alpes</td>\n",
       "      <td>900000</td>\n",
       "      <td>Ligne de Culoz à Modane (frontière)</td>\n",
       "      <td>100845</td>\n",
       "      <td>247316</td>\n",
       "      <td>entretien de la voie</td>\n",
       "      <td>25</td>\n",
       "      <td>35.0</td>\n",
       "      <td>2020.0</td>\n",
       "    </tr>\n",
       "    <tr>\n",
       "      <th>12</th>\n",
       "      <td>Siège INFRAPOLE Bourgogne Franche-Comté</td>\n",
       "      <td>830000</td>\n",
       "      <td>Ligne de Paris-Lyon à Marseille-St-Charles</td>\n",
       "      <td>219609</td>\n",
       "      <td>455512</td>\n",
       "      <td>création ou modernisation de ligne</td>\n",
       "      <td>2</td>\n",
       "      <td>35.0</td>\n",
       "      <td>2020.0</td>\n",
       "    </tr>\n",
       "    <tr>\n",
       "      <th>14</th>\n",
       "      <td>Siège INFRAPOLE Bretagne</td>\n",
       "      <td>441000</td>\n",
       "      <td>Ligne de Rennes à St-Malo-St-Servan</td>\n",
       "      <td>375681</td>\n",
       "      <td>454364</td>\n",
       "      <td>entretien de la voie</td>\n",
       "      <td>4</td>\n",
       "      <td>35.0</td>\n",
       "      <td>2020.0</td>\n",
       "    </tr>\n",
       "    <tr>\n",
       "      <th>18</th>\n",
       "      <td>Siège INFRAPOLE Bretagne</td>\n",
       "      <td>470000</td>\n",
       "      <td>Ligne de Savenay à Landerneau</td>\n",
       "      <td>469470</td>\n",
       "      <td>768834</td>\n",
       "      <td>entretien des caténaires</td>\n",
       "      <td>6</td>\n",
       "      <td>35.0</td>\n",
       "      <td>2020.0</td>\n",
       "    </tr>\n",
       "    <tr>\n",
       "      <th>22</th>\n",
       "      <td>Siège INFRAPOLE Champagne-Ardenne</td>\n",
       "      <td>70000</td>\n",
       "      <td>Ligne de Noisy-le-Sec à Strasbourg-Ville</td>\n",
       "      <td>111739</td>\n",
       "      <td>231893</td>\n",
       "      <td>renouvellement de la signalisation</td>\n",
       "      <td>8</td>\n",
       "      <td>35.0</td>\n",
       "      <td>2020.0</td>\n",
       "    </tr>\n",
       "  </tbody>\n",
       "</table>\n",
       "</div>"
      ],
      "text/plain": [
       "                              LIB_STRUCTDEM COD_LIGNE  \\\n",
       "0                     Siège INFRAPOLE Alpes    900000   \n",
       "12  Siège INFRAPOLE Bourgogne Franche-Comté    830000   \n",
       "14                 Siège INFRAPOLE Bretagne    441000   \n",
       "18                 Siège INFRAPOLE Bretagne    470000   \n",
       "22        Siège INFRAPOLE Champagne-Ardenne     70000   \n",
       "\n",
       "                                     LIB_LIGNE  PK_DEBM  PK_FINM  \\\n",
       "0          Ligne de Culoz à Modane (frontière)   100845   247316   \n",
       "12  Ligne de Paris-Lyon à Marseille-St-Charles   219609   455512   \n",
       "14         Ligne de Rennes à St-Malo-St-Servan   375681   454364   \n",
       "18               Ligne de Savenay à Landerneau   469470   768834   \n",
       "22    Ligne de Noisy-le-Sec à Strasbourg-Ville   111739   231893   \n",
       "\n",
       "                        FAMILLETRAVAUX  NB_INTERVENTIONS  NUM_SEMAINE   ANNEE  \n",
       "0                 entretien de la voie                25         35.0  2020.0  \n",
       "12  création ou modernisation de ligne                 2         35.0  2020.0  \n",
       "14                entretien de la voie                 4         35.0  2020.0  \n",
       "18            entretien des caténaires                 6         35.0  2020.0  \n",
       "22  renouvellement de la signalisation                 8         35.0  2020.0  "
      ]
     },
     "execution_count": 441,
     "metadata": {},
     "output_type": "execute_result"
    }
   ],
   "source": [
    "lgv_rows.head(5)"
   ]
  },
  {
   "cell_type": "code",
   "execution_count": 442,
   "metadata": {},
   "outputs": [
    {
     "data": {
      "text/plain": [
       "(24592, 9)"
      ]
     },
     "execution_count": 442,
     "metadata": {},
     "output_type": "execute_result"
    }
   ],
   "source": [
    "lgv_rows.shape"
   ]
  },
  {
   "cell_type": "markdown",
   "metadata": {},
   "source": [
    "We see that 24,592 rows of our maintenance data are associated with lines on the high-speed rail network.\n",
    "\n",
    "We can proceed with this filtered data. First, we extract the region labels in the strings within the **LIB_STRUCTDEM** column:"
   ]
  },
  {
   "cell_type": "code",
   "execution_count": 443,
   "metadata": {},
   "outputs": [
    {
     "name": "stderr",
     "output_type": "stream",
     "text": [
      "<ipython-input-443-d3daa99a784c>:1: SettingWithCopyWarning: \n",
      "A value is trying to be set on a copy of a slice from a DataFrame.\n",
      "Try using .loc[row_indexer,col_indexer] = value instead\n",
      "\n",
      "See the caveats in the documentation: https://pandas.pydata.org/pandas-docs/stable/user_guide/indexing.html#returning-a-view-versus-a-copy\n",
      "  lgv_rows['LIB_STRUCTDEM'] = lgv_rows['LIB_STRUCTDEM'].str.replace('Siège INFRAPOLE ','')\n"
     ]
    }
   ],
   "source": [
    "lgv_rows['LIB_STRUCTDEM'] = lgv_rows['LIB_STRUCTDEM'].str.replace('Siège INFRAPOLE ','')"
   ]
  },
  {
   "cell_type": "code",
   "execution_count": 444,
   "metadata": {},
   "outputs": [
    {
     "data": {
      "text/html": [
       "<div>\n",
       "<style scoped>\n",
       "    .dataframe tbody tr th:only-of-type {\n",
       "        vertical-align: middle;\n",
       "    }\n",
       "\n",
       "    .dataframe tbody tr th {\n",
       "        vertical-align: top;\n",
       "    }\n",
       "\n",
       "    .dataframe thead th {\n",
       "        text-align: right;\n",
       "    }\n",
       "</style>\n",
       "<table border=\"1\" class=\"dataframe\">\n",
       "  <thead>\n",
       "    <tr style=\"text-align: right;\">\n",
       "      <th></th>\n",
       "      <th>LIB_STRUCTDEM</th>\n",
       "      <th>COD_LIGNE</th>\n",
       "      <th>LIB_LIGNE</th>\n",
       "      <th>PK_DEBM</th>\n",
       "      <th>PK_FINM</th>\n",
       "      <th>FAMILLETRAVAUX</th>\n",
       "      <th>NB_INTERVENTIONS</th>\n",
       "      <th>NUM_SEMAINE</th>\n",
       "      <th>ANNEE</th>\n",
       "    </tr>\n",
       "  </thead>\n",
       "  <tbody>\n",
       "    <tr>\n",
       "      <th>0</th>\n",
       "      <td>Alpes</td>\n",
       "      <td>900000</td>\n",
       "      <td>Ligne de Culoz à Modane (frontière)</td>\n",
       "      <td>100845</td>\n",
       "      <td>247316</td>\n",
       "      <td>entretien de la voie</td>\n",
       "      <td>25</td>\n",
       "      <td>35.0</td>\n",
       "      <td>2020.0</td>\n",
       "    </tr>\n",
       "    <tr>\n",
       "      <th>12</th>\n",
       "      <td>Bourgogne Franche-Comté</td>\n",
       "      <td>830000</td>\n",
       "      <td>Ligne de Paris-Lyon à Marseille-St-Charles</td>\n",
       "      <td>219609</td>\n",
       "      <td>455512</td>\n",
       "      <td>création ou modernisation de ligne</td>\n",
       "      <td>2</td>\n",
       "      <td>35.0</td>\n",
       "      <td>2020.0</td>\n",
       "    </tr>\n",
       "    <tr>\n",
       "      <th>14</th>\n",
       "      <td>Bretagne</td>\n",
       "      <td>441000</td>\n",
       "      <td>Ligne de Rennes à St-Malo-St-Servan</td>\n",
       "      <td>375681</td>\n",
       "      <td>454364</td>\n",
       "      <td>entretien de la voie</td>\n",
       "      <td>4</td>\n",
       "      <td>35.0</td>\n",
       "      <td>2020.0</td>\n",
       "    </tr>\n",
       "    <tr>\n",
       "      <th>18</th>\n",
       "      <td>Bretagne</td>\n",
       "      <td>470000</td>\n",
       "      <td>Ligne de Savenay à Landerneau</td>\n",
       "      <td>469470</td>\n",
       "      <td>768834</td>\n",
       "      <td>entretien des caténaires</td>\n",
       "      <td>6</td>\n",
       "      <td>35.0</td>\n",
       "      <td>2020.0</td>\n",
       "    </tr>\n",
       "    <tr>\n",
       "      <th>22</th>\n",
       "      <td>Champagne-Ardenne</td>\n",
       "      <td>70000</td>\n",
       "      <td>Ligne de Noisy-le-Sec à Strasbourg-Ville</td>\n",
       "      <td>111739</td>\n",
       "      <td>231893</td>\n",
       "      <td>renouvellement de la signalisation</td>\n",
       "      <td>8</td>\n",
       "      <td>35.0</td>\n",
       "      <td>2020.0</td>\n",
       "    </tr>\n",
       "  </tbody>\n",
       "</table>\n",
       "</div>"
      ],
      "text/plain": [
       "              LIB_STRUCTDEM COD_LIGNE  \\\n",
       "0                     Alpes    900000   \n",
       "12  Bourgogne Franche-Comté    830000   \n",
       "14                 Bretagne    441000   \n",
       "18                 Bretagne    470000   \n",
       "22        Champagne-Ardenne     70000   \n",
       "\n",
       "                                     LIB_LIGNE  PK_DEBM  PK_FINM  \\\n",
       "0          Ligne de Culoz à Modane (frontière)   100845   247316   \n",
       "12  Ligne de Paris-Lyon à Marseille-St-Charles   219609   455512   \n",
       "14         Ligne de Rennes à St-Malo-St-Servan   375681   454364   \n",
       "18               Ligne de Savenay à Landerneau   469470   768834   \n",
       "22    Ligne de Noisy-le-Sec à Strasbourg-Ville   111739   231893   \n",
       "\n",
       "                        FAMILLETRAVAUX  NB_INTERVENTIONS  NUM_SEMAINE   ANNEE  \n",
       "0                 entretien de la voie                25         35.0  2020.0  \n",
       "12  création ou modernisation de ligne                 2         35.0  2020.0  \n",
       "14                entretien de la voie                 4         35.0  2020.0  \n",
       "18            entretien des caténaires                 6         35.0  2020.0  \n",
       "22  renouvellement de la signalisation                 8         35.0  2020.0  "
      ]
     },
     "execution_count": 444,
     "metadata": {},
     "output_type": "execute_result"
    }
   ],
   "source": [
    "lgv_rows.head()"
   ]
  },
  {
   "cell_type": "code",
   "execution_count": 445,
   "metadata": {},
   "outputs": [
    {
     "data": {
      "text/plain": [
       "array(['Alpes', 'Bourgogne Franche-Comté', 'Bretagne',\n",
       "       'Champagne-Ardenne', 'Est-Européen', 'Languedoc-Roussillon',\n",
       "       'LGV Sud Est Européen', 'Lorraine', 'PACA', 'Paris-Est',\n",
       "       'Paris-Sud-Est', 'Pays-de-Loire', 'Rhénan', 'Rhodanien',\n",
       "       'LGV Atlantique', 'Midi-Pyrénées', 'Poitou-Charentes', 'Aquitaine',\n",
       "       'Auvergne Nivernais', 'Centre', 'Nord-Pas-de-Calais',\n",
       "       'Nord Européen', 'Paris-Nord', 'Ouest Parisien'], dtype=object)"
      ]
     },
     "execution_count": 445,
     "metadata": {},
     "output_type": "execute_result"
    }
   ],
   "source": [
    "lgv_rows['LIB_STRUCTDEM'].unique()"
   ]
  },
  {
   "cell_type": "markdown",
   "metadata": {},
   "source": [
    "We see that not all French regions are respresented here. However, a quick internet search revealed that some of the headquarters in a region are branded. Therefore, using this information, we can revert to the actual region names. Note that some headquarters cover more than one region. This is unavoidable but it is mitigated somewhat by network sections having two reference points in the final data: line code AND region."
   ]
  },
  {
   "cell_type": "code",
   "execution_count": 446,
   "metadata": {},
   "outputs": [
    {
     "name": "stderr",
     "output_type": "stream",
     "text": [
      "C:\\Users\\epjac\\anaconda3\\lib\\site-packages\\pandas\\core\\series.py:4509: SettingWithCopyWarning: \n",
      "A value is trying to be set on a copy of a slice from a DataFrame\n",
      "\n",
      "See the caveats in the documentation: https://pandas.pydata.org/pandas-docs/stable/user_guide/indexing.html#returning-a-view-versus-a-copy\n",
      "  return super().replace(\n"
     ]
    }
   ],
   "source": [
    "lgv_rows['LIB_STRUCTDEM'].replace({'Est-Européen':'Franche-Comté',\n",
    "                                   'Est-Européen':'Bourgogne',\n",
    "                                   'Bourgogne Franche-Comté':'Bourgogne',\n",
    "                                   'Bourgogne Franche-Comté':'Franche-Comté',\n",
    "                                   'Paris-Nord':'Île-de-France',\n",
    "                                   'Ouest Parisien':'Île-de-France',\n",
    "                                   'Paris-Est':'Île-de-France',\n",
    "                                   'Paris-Sud-Est':'Île-de-France',\n",
    "                                   'Nord Européen':'Picardie',\n",
    "                                   'Nord Européen':'Île-de-France',\n",
    "                                   'Auvergne Nivernais':'Auvergne',\n",
    "                                   'LGV Sud Est Européen':'Centre',\n",
    "                                   'LGV Sud Est Européen':'Auvergne',\n",
    "                                   'LGV Sud Est Européen':'Languedoc-Roussillon',\n",
    "                                   'LGV Sud Est Européen':'Rhône-Alpes',\n",
    "                                   'LGV Atlantique':'Centre',\n",
    "                                   'LGV Atlantique':'Poitou-Charentes',\n",
    "                                   'LGV Atlantique':'Aquitaine',\n",
    "                                   'LGV Atlantique':'Midi-Pyrénées',\n",
    "                                   'PACA':\"Provence-Alpes-Côte-d'Azur\",\n",
    "                                   'Rhénan':\"Alsace\",\n",
    "                                   'Rhodanien':'Auvergne',\n",
    "                                   'Rhodanien':'Languedoc-Roussillon',\n",
    "                                   'Rhodanien':'Rhône-Alpes',\n",
    "                                   'Pays-de-Loire':\"Pays de la Loire\",\n",
    "                                   'Alpes':'Rhône-Alpes'}, inplace=True)"
   ]
  },
  {
   "cell_type": "code",
   "execution_count": 447,
   "metadata": {},
   "outputs": [
    {
     "data": {
      "text/plain": [
       "array(['Rhône-Alpes', 'Franche-Comté', 'Bretagne', 'Champagne-Ardenne',\n",
       "       'Bourgogne', 'Languedoc-Roussillon', 'Lorraine',\n",
       "       \"Provence-Alpes-Côte-d'Azur\", 'Île-de-France', 'Pays de la Loire',\n",
       "       'Alsace', 'Midi-Pyrénées', 'Poitou-Charentes', 'Aquitaine',\n",
       "       'Auvergne', 'Centre', 'Nord-Pas-de-Calais'], dtype=object)"
      ]
     },
     "execution_count": 447,
     "metadata": {},
     "output_type": "execute_result"
    }
   ],
   "source": [
    "lgv_rows['LIB_STRUCTDEM'].unique()"
   ]
  },
  {
   "cell_type": "code",
   "execution_count": 448,
   "metadata": {},
   "outputs": [],
   "source": [
    "# update column name\n",
    "lgv_rows = lgv_rows.rename(columns=({'LIB_STRUCTDEM':'Region'}))"
   ]
  },
  {
   "cell_type": "code",
   "execution_count": 449,
   "metadata": {},
   "outputs": [
    {
     "data": {
      "text/html": [
       "<div>\n",
       "<style scoped>\n",
       "    .dataframe tbody tr th:only-of-type {\n",
       "        vertical-align: middle;\n",
       "    }\n",
       "\n",
       "    .dataframe tbody tr th {\n",
       "        vertical-align: top;\n",
       "    }\n",
       "\n",
       "    .dataframe thead th {\n",
       "        text-align: right;\n",
       "    }\n",
       "</style>\n",
       "<table border=\"1\" class=\"dataframe\">\n",
       "  <thead>\n",
       "    <tr style=\"text-align: right;\">\n",
       "      <th></th>\n",
       "      <th>Region</th>\n",
       "      <th>COD_LIGNE</th>\n",
       "      <th>LIB_LIGNE</th>\n",
       "      <th>PK_DEBM</th>\n",
       "      <th>PK_FINM</th>\n",
       "      <th>FAMILLETRAVAUX</th>\n",
       "      <th>NB_INTERVENTIONS</th>\n",
       "      <th>NUM_SEMAINE</th>\n",
       "      <th>ANNEE</th>\n",
       "    </tr>\n",
       "  </thead>\n",
       "  <tbody>\n",
       "    <tr>\n",
       "      <th>0</th>\n",
       "      <td>Rhône-Alpes</td>\n",
       "      <td>900000</td>\n",
       "      <td>Ligne de Culoz à Modane (frontière)</td>\n",
       "      <td>100845</td>\n",
       "      <td>247316</td>\n",
       "      <td>entretien de la voie</td>\n",
       "      <td>25</td>\n",
       "      <td>35.0</td>\n",
       "      <td>2020.0</td>\n",
       "    </tr>\n",
       "    <tr>\n",
       "      <th>12</th>\n",
       "      <td>Franche-Comté</td>\n",
       "      <td>830000</td>\n",
       "      <td>Ligne de Paris-Lyon à Marseille-St-Charles</td>\n",
       "      <td>219609</td>\n",
       "      <td>455512</td>\n",
       "      <td>création ou modernisation de ligne</td>\n",
       "      <td>2</td>\n",
       "      <td>35.0</td>\n",
       "      <td>2020.0</td>\n",
       "    </tr>\n",
       "    <tr>\n",
       "      <th>14</th>\n",
       "      <td>Bretagne</td>\n",
       "      <td>441000</td>\n",
       "      <td>Ligne de Rennes à St-Malo-St-Servan</td>\n",
       "      <td>375681</td>\n",
       "      <td>454364</td>\n",
       "      <td>entretien de la voie</td>\n",
       "      <td>4</td>\n",
       "      <td>35.0</td>\n",
       "      <td>2020.0</td>\n",
       "    </tr>\n",
       "    <tr>\n",
       "      <th>18</th>\n",
       "      <td>Bretagne</td>\n",
       "      <td>470000</td>\n",
       "      <td>Ligne de Savenay à Landerneau</td>\n",
       "      <td>469470</td>\n",
       "      <td>768834</td>\n",
       "      <td>entretien des caténaires</td>\n",
       "      <td>6</td>\n",
       "      <td>35.0</td>\n",
       "      <td>2020.0</td>\n",
       "    </tr>\n",
       "    <tr>\n",
       "      <th>22</th>\n",
       "      <td>Champagne-Ardenne</td>\n",
       "      <td>70000</td>\n",
       "      <td>Ligne de Noisy-le-Sec à Strasbourg-Ville</td>\n",
       "      <td>111739</td>\n",
       "      <td>231893</td>\n",
       "      <td>renouvellement de la signalisation</td>\n",
       "      <td>8</td>\n",
       "      <td>35.0</td>\n",
       "      <td>2020.0</td>\n",
       "    </tr>\n",
       "  </tbody>\n",
       "</table>\n",
       "</div>"
      ],
      "text/plain": [
       "               Region COD_LIGNE                                   LIB_LIGNE  \\\n",
       "0         Rhône-Alpes    900000         Ligne de Culoz à Modane (frontière)   \n",
       "12      Franche-Comté    830000  Ligne de Paris-Lyon à Marseille-St-Charles   \n",
       "14           Bretagne    441000         Ligne de Rennes à St-Malo-St-Servan   \n",
       "18           Bretagne    470000               Ligne de Savenay à Landerneau   \n",
       "22  Champagne-Ardenne     70000    Ligne de Noisy-le-Sec à Strasbourg-Ville   \n",
       "\n",
       "    PK_DEBM  PK_FINM                      FAMILLETRAVAUX  NB_INTERVENTIONS  \\\n",
       "0    100845   247316                entretien de la voie                25   \n",
       "12   219609   455512  création ou modernisation de ligne                 2   \n",
       "14   375681   454364                entretien de la voie                 4   \n",
       "18   469470   768834            entretien des caténaires                 6   \n",
       "22   111739   231893  renouvellement de la signalisation                 8   \n",
       "\n",
       "    NUM_SEMAINE   ANNEE  \n",
       "0          35.0  2020.0  \n",
       "12         35.0  2020.0  \n",
       "14         35.0  2020.0  \n",
       "18         35.0  2020.0  \n",
       "22         35.0  2020.0  "
      ]
     },
     "execution_count": 449,
     "metadata": {},
     "output_type": "execute_result"
    }
   ],
   "source": [
    "lgv_rows.head()"
   ]
  },
  {
   "cell_type": "code",
   "execution_count": 450,
   "metadata": {},
   "outputs": [
    {
     "data": {
      "text/plain": [
       "(24592, 9)"
      ]
     },
     "execution_count": 450,
     "metadata": {},
     "output_type": "execute_result"
    }
   ],
   "source": [
    "lgv_rows.shape"
   ]
  },
  {
   "cell_type": "markdown",
   "metadata": {},
   "source": [
    "We see that we now have all French regions correctly labelled in our maintenance data."
   ]
  },
  {
   "cell_type": "markdown",
   "metadata": {},
   "source": [
    "A quick internet search reveals that columns **PK_DEBM** and **PK_FINM** refer to *points kilometrique* or waymarkers for line features. We will not require this granularity of detail for the project so we will remove the two columns now."
   ]
  },
  {
   "cell_type": "code",
   "execution_count": 451,
   "metadata": {},
   "outputs": [],
   "source": [
    "lgv_rows = lgv_rows.drop(columns=['PK_DEBM', 'PK_FINM'])"
   ]
  },
  {
   "cell_type": "markdown",
   "metadata": {},
   "source": [
    "Next, we tackle the French language descriptions of works in **FAMILLETRAVAUX**. Using the Google Translate API, we can translate these for our purposes:"
   ]
  },
  {
   "cell_type": "code",
   "execution_count": 452,
   "metadata": {
    "scrolled": true
   },
   "outputs": [
    {
     "data": {
      "text/plain": [
       "array(['entretien de la voie', 'création ou modernisation de ligne',\n",
       "       'entretien des caténaires', 'renouvellement de la signalisation',\n",
       "       'entretien et travaux divers', 'entretien de la signalisation',\n",
       "       'renouvellement de ponts, tunnels et talus',\n",
       "       'travaux pour des tiers', 'renouvellement de la voie',\n",
       "       'entretien de ponts, tunnels et talus',\n",
       "       'renouvellement des caténaires',\n",
       "       'renouvellement de la télécommunication ferroviaire'], dtype=object)"
      ]
     },
     "execution_count": 452,
     "metadata": {},
     "output_type": "execute_result"
    }
   ],
   "source": [
    "lgv_rows['FAMILLETRAVAUX'].unique()"
   ]
  },
  {
   "cell_type": "code",
   "execution_count": 453,
   "metadata": {},
   "outputs": [],
   "source": [
    "translator = google_translator()"
   ]
  },
  {
   "cell_type": "code",
   "execution_count": 454,
   "metadata": {},
   "outputs": [],
   "source": [
    "# store unique maintenance headings in list (French language)\n",
    "french = lgv_rows['FAMILLETRAVAUX'].unique()\n",
    "\n",
    "# create empty dictionary object\n",
    "vocab = dict()\n",
    "\n",
    "# looping through each French phrase\n",
    "for i in range(len(french)):\n",
    "    \n",
    "    # each French phrase translated to English and stored\n",
    "    english = translator.translate(french[i])\n",
    "    \n",
    "    # French-to-English pair added to dictionary object\n",
    "    vocab.update({french[i]:english}) "
   ]
  },
  {
   "cell_type": "markdown",
   "metadata": {},
   "source": [
    "We create a *French-to-English* dictionary and use it to update our entries."
   ]
  },
  {
   "cell_type": "code",
   "execution_count": 455,
   "metadata": {},
   "outputs": [
    {
     "data": {
      "text/plain": [
       "{'entretien de la voie': 'Maintenance of the way ',\n",
       " 'création ou modernisation de ligne': 'Creation or modernization of the line ',\n",
       " 'entretien des caténaires': 'Catenary maintenance ',\n",
       " 'renouvellement de la signalisation': 'Renewal of signaling ',\n",
       " 'entretien et travaux divers': 'Maintenance and various work ',\n",
       " 'entretien de la signalisation': 'signaling maintenance ',\n",
       " 'renouvellement de ponts, tunnels et talus': 'Renewal of bridges, tunnels and slopes ',\n",
       " 'travaux pour des tiers': 'work for third parties ',\n",
       " 'renouvellement de la voie': 'renewal of the way ',\n",
       " 'entretien de ponts, tunnels et talus': 'Maintenance of bridges, tunnels and slopes ',\n",
       " 'renouvellement des caténaires': 'Catenary renewal ',\n",
       " 'renouvellement de la télécommunication ferroviaire': 'Renewal of railway telecommunication '}"
      ]
     },
     "execution_count": 455,
     "metadata": {},
     "output_type": "execute_result"
    }
   ],
   "source": [
    "vocab"
   ]
  },
  {
   "cell_type": "code",
   "execution_count": 456,
   "metadata": {},
   "outputs": [],
   "source": [
    "# dictionary passed over column to 'translate' phrases as matched\n",
    "lgv_rows[\"FAMILLETRAVAUX\"] = lgv_rows[\"FAMILLETRAVAUX\"].map(vocab)"
   ]
  },
  {
   "cell_type": "code",
   "execution_count": 457,
   "metadata": {},
   "outputs": [
    {
     "data": {
      "text/html": [
       "<div>\n",
       "<style scoped>\n",
       "    .dataframe tbody tr th:only-of-type {\n",
       "        vertical-align: middle;\n",
       "    }\n",
       "\n",
       "    .dataframe tbody tr th {\n",
       "        vertical-align: top;\n",
       "    }\n",
       "\n",
       "    .dataframe thead th {\n",
       "        text-align: right;\n",
       "    }\n",
       "</style>\n",
       "<table border=\"1\" class=\"dataframe\">\n",
       "  <thead>\n",
       "    <tr style=\"text-align: right;\">\n",
       "      <th></th>\n",
       "      <th>Region</th>\n",
       "      <th>COD_LIGNE</th>\n",
       "      <th>LIB_LIGNE</th>\n",
       "      <th>FAMILLETRAVAUX</th>\n",
       "      <th>NB_INTERVENTIONS</th>\n",
       "      <th>NUM_SEMAINE</th>\n",
       "      <th>ANNEE</th>\n",
       "    </tr>\n",
       "  </thead>\n",
       "  <tbody>\n",
       "    <tr>\n",
       "      <th>0</th>\n",
       "      <td>Rhône-Alpes</td>\n",
       "      <td>900000</td>\n",
       "      <td>Ligne de Culoz à Modane (frontière)</td>\n",
       "      <td>Maintenance of the way</td>\n",
       "      <td>25</td>\n",
       "      <td>35.0</td>\n",
       "      <td>2020.0</td>\n",
       "    </tr>\n",
       "    <tr>\n",
       "      <th>12</th>\n",
       "      <td>Franche-Comté</td>\n",
       "      <td>830000</td>\n",
       "      <td>Ligne de Paris-Lyon à Marseille-St-Charles</td>\n",
       "      <td>Creation or modernization of the line</td>\n",
       "      <td>2</td>\n",
       "      <td>35.0</td>\n",
       "      <td>2020.0</td>\n",
       "    </tr>\n",
       "    <tr>\n",
       "      <th>14</th>\n",
       "      <td>Bretagne</td>\n",
       "      <td>441000</td>\n",
       "      <td>Ligne de Rennes à St-Malo-St-Servan</td>\n",
       "      <td>Maintenance of the way</td>\n",
       "      <td>4</td>\n",
       "      <td>35.0</td>\n",
       "      <td>2020.0</td>\n",
       "    </tr>\n",
       "    <tr>\n",
       "      <th>18</th>\n",
       "      <td>Bretagne</td>\n",
       "      <td>470000</td>\n",
       "      <td>Ligne de Savenay à Landerneau</td>\n",
       "      <td>Catenary maintenance</td>\n",
       "      <td>6</td>\n",
       "      <td>35.0</td>\n",
       "      <td>2020.0</td>\n",
       "    </tr>\n",
       "    <tr>\n",
       "      <th>22</th>\n",
       "      <td>Champagne-Ardenne</td>\n",
       "      <td>70000</td>\n",
       "      <td>Ligne de Noisy-le-Sec à Strasbourg-Ville</td>\n",
       "      <td>Renewal of signaling</td>\n",
       "      <td>8</td>\n",
       "      <td>35.0</td>\n",
       "      <td>2020.0</td>\n",
       "    </tr>\n",
       "  </tbody>\n",
       "</table>\n",
       "</div>"
      ],
      "text/plain": [
       "               Region COD_LIGNE                                   LIB_LIGNE  \\\n",
       "0         Rhône-Alpes    900000         Ligne de Culoz à Modane (frontière)   \n",
       "12      Franche-Comté    830000  Ligne de Paris-Lyon à Marseille-St-Charles   \n",
       "14           Bretagne    441000         Ligne de Rennes à St-Malo-St-Servan   \n",
       "18           Bretagne    470000               Ligne de Savenay à Landerneau   \n",
       "22  Champagne-Ardenne     70000    Ligne de Noisy-le-Sec à Strasbourg-Ville   \n",
       "\n",
       "                            FAMILLETRAVAUX  NB_INTERVENTIONS  NUM_SEMAINE  \\\n",
       "0                  Maintenance of the way                 25         35.0   \n",
       "12  Creation or modernization of the line                  2         35.0   \n",
       "14                 Maintenance of the way                  4         35.0   \n",
       "18                   Catenary maintenance                  6         35.0   \n",
       "22                   Renewal of signaling                  8         35.0   \n",
       "\n",
       "     ANNEE  \n",
       "0   2020.0  \n",
       "12  2020.0  \n",
       "14  2020.0  \n",
       "18  2020.0  \n",
       "22  2020.0  "
      ]
     },
     "execution_count": 457,
     "metadata": {},
     "output_type": "execute_result"
    }
   ],
   "source": [
    "lgv_rows.head(5)"
   ]
  },
  {
   "cell_type": "markdown",
   "metadata": {},
   "source": [
    "The line description in column **LIB_LIGNE** is synonymous with the unique identifier code in **COD_LIGNE**. The line code will be a key for joining data later so we will drop the **LIB_LIGNE** column. (In developmeny, translating a whole dataframe via a loop also proved to be a computationally expensive exercise!)"
   ]
  },
  {
   "cell_type": "code",
   "execution_count": 458,
   "metadata": {},
   "outputs": [],
   "source": [
    "lgv_rows = lgv_rows.drop(columns='LIB_LIGNE')"
   ]
  },
  {
   "cell_type": "markdown",
   "metadata": {},
   "source": [
    " "
   ]
  },
  {
   "cell_type": "markdown",
   "metadata": {},
   "source": [
    "#### Missing values"
   ]
  },
  {
   "cell_type": "code",
   "execution_count": 459,
   "metadata": {},
   "outputs": [
    {
     "data": {
      "text/plain": [
       "622"
      ]
     },
     "execution_count": 459,
     "metadata": {},
     "output_type": "execute_result"
    }
   ],
   "source": [
    "lgv_rows.isna().sum().sum()"
   ]
  },
  {
   "cell_type": "markdown",
   "metadata": {},
   "source": [
    "Given that there are 622 missing values, we can explore in more detail:"
   ]
  },
  {
   "cell_type": "code",
   "execution_count": 460,
   "metadata": {},
   "outputs": [
    {
     "data": {
      "text/plain": [
       "Region                0\n",
       "COD_LIGNE             0\n",
       "FAMILLETRAVAUX        0\n",
       "NB_INTERVENTIONS      0\n",
       "NUM_SEMAINE         311\n",
       "ANNEE               311\n",
       "dtype: int64"
      ]
     },
     "execution_count": 460,
     "metadata": {},
     "output_type": "execute_result"
    }
   ],
   "source": [
    "lgv_rows.isna().sum()"
   ]
  },
  {
   "cell_type": "markdown",
   "metadata": {},
   "source": [
    "We check whether the same 311 rows are affected."
   ]
  },
  {
   "cell_type": "code",
   "execution_count": 461,
   "metadata": {},
   "outputs": [
    {
     "data": {
      "text/plain": [
       "311"
      ]
     },
     "execution_count": 461,
     "metadata": {},
     "output_type": "execute_result"
    }
   ],
   "source": [
    "len(lgv_rows[lgv_rows.isna().any(axis=1)])"
   ]
  },
  {
   "cell_type": "code",
   "execution_count": 462,
   "metadata": {},
   "outputs": [
    {
     "data": {
      "text/plain": [
       "1.26"
      ]
     },
     "execution_count": 462,
     "metadata": {},
     "output_type": "execute_result"
    }
   ],
   "source": [
    "# percentage of rows affected\n",
    "round(len(lgv_rows[lgv_rows.isna().any(axis=1)])/len(lgv_rows)*100, 2)"
   ]
  },
  {
   "cell_type": "markdown",
   "metadata": {},
   "source": [
    "We see that 311 maintenance entries do not have a month or year attributed to them. Given that we have no way of retrieving this information easily and just ~1% of rows are affected, we drop these rows."
   ]
  },
  {
   "cell_type": "code",
   "execution_count": 463,
   "metadata": {},
   "outputs": [],
   "source": [
    "lgv_rows = lgv_rows.dropna()"
   ]
  },
  {
   "cell_type": "code",
   "execution_count": 464,
   "metadata": {},
   "outputs": [
    {
     "data": {
      "text/plain": [
       "(24281, 6)"
      ]
     },
     "execution_count": 464,
     "metadata": {},
     "output_type": "execute_result"
    }
   ],
   "source": [
    "lgv_rows.shape"
   ]
  },
  {
   "cell_type": "markdown",
   "metadata": {},
   "source": [
    "Confirmation that we now have 24,281 rows remaining."
   ]
  },
  {
   "cell_type": "markdown",
   "metadata": {},
   "source": [
    "We notice that both the **NUM_SEMAINE** and **ANNEE** column values appear as floats. We now change their *dtypes* to INTEGER."
   ]
  },
  {
   "cell_type": "code",
   "execution_count": 465,
   "metadata": {},
   "outputs": [],
   "source": [
    "lgv_rows = lgv_rows.astype({'NUM_SEMAINE':'int', 'ANNEE':'int'})"
   ]
  },
  {
   "cell_type": "markdown",
   "metadata": {},
   "source": [
    "We rename our columns for ease of reference moving forward."
   ]
  },
  {
   "cell_type": "code",
   "execution_count": 466,
   "metadata": {},
   "outputs": [],
   "source": [
    "lgv_rows.columns = ['region','line_code','works_category','works_duration','week_no','year']"
   ]
  },
  {
   "cell_type": "code",
   "execution_count": 467,
   "metadata": {},
   "outputs": [
    {
     "data": {
      "text/html": [
       "<div>\n",
       "<style scoped>\n",
       "    .dataframe tbody tr th:only-of-type {\n",
       "        vertical-align: middle;\n",
       "    }\n",
       "\n",
       "    .dataframe tbody tr th {\n",
       "        vertical-align: top;\n",
       "    }\n",
       "\n",
       "    .dataframe thead th {\n",
       "        text-align: right;\n",
       "    }\n",
       "</style>\n",
       "<table border=\"1\" class=\"dataframe\">\n",
       "  <thead>\n",
       "    <tr style=\"text-align: right;\">\n",
       "      <th></th>\n",
       "      <th>region</th>\n",
       "      <th>line_code</th>\n",
       "      <th>works_category</th>\n",
       "      <th>works_duration</th>\n",
       "      <th>week_no</th>\n",
       "      <th>year</th>\n",
       "    </tr>\n",
       "  </thead>\n",
       "  <tbody>\n",
       "    <tr>\n",
       "      <th>0</th>\n",
       "      <td>Rhône-Alpes</td>\n",
       "      <td>900000</td>\n",
       "      <td>Maintenance of the way</td>\n",
       "      <td>25</td>\n",
       "      <td>35</td>\n",
       "      <td>2020</td>\n",
       "    </tr>\n",
       "    <tr>\n",
       "      <th>12</th>\n",
       "      <td>Franche-Comté</td>\n",
       "      <td>830000</td>\n",
       "      <td>Creation or modernization of the line</td>\n",
       "      <td>2</td>\n",
       "      <td>35</td>\n",
       "      <td>2020</td>\n",
       "    </tr>\n",
       "    <tr>\n",
       "      <th>14</th>\n",
       "      <td>Bretagne</td>\n",
       "      <td>441000</td>\n",
       "      <td>Maintenance of the way</td>\n",
       "      <td>4</td>\n",
       "      <td>35</td>\n",
       "      <td>2020</td>\n",
       "    </tr>\n",
       "    <tr>\n",
       "      <th>18</th>\n",
       "      <td>Bretagne</td>\n",
       "      <td>470000</td>\n",
       "      <td>Catenary maintenance</td>\n",
       "      <td>6</td>\n",
       "      <td>35</td>\n",
       "      <td>2020</td>\n",
       "    </tr>\n",
       "    <tr>\n",
       "      <th>22</th>\n",
       "      <td>Champagne-Ardenne</td>\n",
       "      <td>70000</td>\n",
       "      <td>Renewal of signaling</td>\n",
       "      <td>8</td>\n",
       "      <td>35</td>\n",
       "      <td>2020</td>\n",
       "    </tr>\n",
       "  </tbody>\n",
       "</table>\n",
       "</div>"
      ],
      "text/plain": [
       "               region line_code                          works_category  \\\n",
       "0         Rhône-Alpes    900000                 Maintenance of the way    \n",
       "12      Franche-Comté    830000  Creation or modernization of the line    \n",
       "14           Bretagne    441000                 Maintenance of the way    \n",
       "18           Bretagne    470000                   Catenary maintenance    \n",
       "22  Champagne-Ardenne     70000                   Renewal of signaling    \n",
       "\n",
       "    works_duration  week_no  year  \n",
       "0               25       35  2020  \n",
       "12               2       35  2020  \n",
       "14               4       35  2020  \n",
       "18               6       35  2020  \n",
       "22               8       35  2020  "
      ]
     },
     "execution_count": 467,
     "metadata": {},
     "output_type": "execute_result"
    }
   ],
   "source": [
    "lgv_rows.head()"
   ]
  },
  {
   "cell_type": "markdown",
   "metadata": {},
   "source": [
    "Earlier, we saw that there were 12 different classes in **works_category**."
   ]
  },
  {
   "cell_type": "code",
   "execution_count": 468,
   "metadata": {},
   "outputs": [
    {
     "data": {
      "text/plain": [
       "array(['Maintenance of the way ',\n",
       "       'Creation or modernization of the line ', 'Catenary maintenance ',\n",
       "       'Renewal of signaling ', 'Maintenance and various work ',\n",
       "       'signaling maintenance ',\n",
       "       'Renewal of bridges, tunnels and slopes ',\n",
       "       'work for third parties ', 'renewal of the way ',\n",
       "       'Maintenance of bridges, tunnels and slopes ', 'Catenary renewal ',\n",
       "       'Renewal of railway telecommunication '], dtype=object)"
      ]
     },
     "execution_count": 468,
     "metadata": {},
     "output_type": "execute_result"
    }
   ],
   "source": [
    "lgv_rows['works_category'].unique()"
   ]
  },
  {
   "cell_type": "markdown",
   "metadata": {},
   "source": [
    "Many are paired. We will one-hot encode each *unique* category to make the information compatible with machine learning models:\n",
    "- Maintenance of the way, Renewal of the way ----> **track_works**\n",
    "- Signaling maintenance, renewal of signaling ----> **signal_works**\n",
    "- Catenary maintenance, catenary renewal ----> **overhead_works**\n",
    "- Maintenance of bridges, tunnels, slopes, Renewal of bridges, tunnels, slopes ----> **land_maintenance**\n",
    "- Maintenance and various work, Work for third parties ----> **other_works**\n",
    "- Creation or modernisation of lines ----> **modernisation_works**\n",
    "- Renewal of railway telecommunication ----> **comms_works**"
   ]
  },
  {
   "cell_type": "code",
   "execution_count": 469,
   "metadata": {},
   "outputs": [],
   "source": [
    "# dictionary to categorise works\n",
    "works_categories = {'Maintenance of the way ':'track_works',\n",
    "                   'renewal of the way ':'track_works',\n",
    "                   'Catenary maintenance ':'overhead_works',\n",
    "                   'Maintenance of bridges, tunnels and slopes ':'land_works',\n",
    "                   'Maintenance and various work ':'other_works',\n",
    "                   'Creation or modernization of the line ':'modernisation_works',\n",
    "                   'Renewal of signaling ':'signal_works',\n",
    "                   'signaling maintenance ':'signal_works',\n",
    "                   'Renewal of bridges, tunnels and slopes ':'land_works',\n",
    "                   'work for third parties ':'other_works',\n",
    "                   'Catenary renewal ':'overhead_works',\n",
    "                   'Renewal of railway telecommunication ':'comms_works'}"
   ]
  },
  {
   "cell_type": "markdown",
   "metadata": {},
   "source": [
    "We can update the column by mapping it with the dictionary above."
   ]
  },
  {
   "cell_type": "code",
   "execution_count": 470,
   "metadata": {},
   "outputs": [],
   "source": [
    "lgv_rows['works_category'] = lgv_rows['works_category'].map(works_categories)"
   ]
  },
  {
   "cell_type": "code",
   "execution_count": 471,
   "metadata": {},
   "outputs": [
    {
     "data": {
      "text/plain": [
       "array(['track_works', 'modernisation_works', 'overhead_works',\n",
       "       'signal_works', 'other_works', 'land_works', 'comms_works'],\n",
       "      dtype=object)"
      ]
     },
     "execution_count": 471,
     "metadata": {},
     "output_type": "execute_result"
    }
   ],
   "source": [
    "lgv_rows['works_category'].unique()"
   ]
  },
  {
   "cell_type": "code",
   "execution_count": 472,
   "metadata": {},
   "outputs": [
    {
     "data": {
      "text/html": [
       "<div>\n",
       "<style scoped>\n",
       "    .dataframe tbody tr th:only-of-type {\n",
       "        vertical-align: middle;\n",
       "    }\n",
       "\n",
       "    .dataframe tbody tr th {\n",
       "        vertical-align: top;\n",
       "    }\n",
       "\n",
       "    .dataframe thead th {\n",
       "        text-align: right;\n",
       "    }\n",
       "</style>\n",
       "<table border=\"1\" class=\"dataframe\">\n",
       "  <thead>\n",
       "    <tr style=\"text-align: right;\">\n",
       "      <th></th>\n",
       "      <th>region</th>\n",
       "      <th>line_code</th>\n",
       "      <th>works_category</th>\n",
       "      <th>works_duration</th>\n",
       "      <th>week_no</th>\n",
       "      <th>year</th>\n",
       "    </tr>\n",
       "  </thead>\n",
       "  <tbody>\n",
       "    <tr>\n",
       "      <th>0</th>\n",
       "      <td>Rhône-Alpes</td>\n",
       "      <td>900000</td>\n",
       "      <td>track_works</td>\n",
       "      <td>25</td>\n",
       "      <td>35</td>\n",
       "      <td>2020</td>\n",
       "    </tr>\n",
       "    <tr>\n",
       "      <th>12</th>\n",
       "      <td>Franche-Comté</td>\n",
       "      <td>830000</td>\n",
       "      <td>modernisation_works</td>\n",
       "      <td>2</td>\n",
       "      <td>35</td>\n",
       "      <td>2020</td>\n",
       "    </tr>\n",
       "    <tr>\n",
       "      <th>14</th>\n",
       "      <td>Bretagne</td>\n",
       "      <td>441000</td>\n",
       "      <td>track_works</td>\n",
       "      <td>4</td>\n",
       "      <td>35</td>\n",
       "      <td>2020</td>\n",
       "    </tr>\n",
       "    <tr>\n",
       "      <th>18</th>\n",
       "      <td>Bretagne</td>\n",
       "      <td>470000</td>\n",
       "      <td>overhead_works</td>\n",
       "      <td>6</td>\n",
       "      <td>35</td>\n",
       "      <td>2020</td>\n",
       "    </tr>\n",
       "    <tr>\n",
       "      <th>22</th>\n",
       "      <td>Champagne-Ardenne</td>\n",
       "      <td>70000</td>\n",
       "      <td>signal_works</td>\n",
       "      <td>8</td>\n",
       "      <td>35</td>\n",
       "      <td>2020</td>\n",
       "    </tr>\n",
       "  </tbody>\n",
       "</table>\n",
       "</div>"
      ],
      "text/plain": [
       "               region line_code       works_category  works_duration  week_no  \\\n",
       "0         Rhône-Alpes    900000          track_works              25       35   \n",
       "12      Franche-Comté    830000  modernisation_works               2       35   \n",
       "14           Bretagne    441000          track_works               4       35   \n",
       "18           Bretagne    470000       overhead_works               6       35   \n",
       "22  Champagne-Ardenne     70000         signal_works               8       35   \n",
       "\n",
       "    year  \n",
       "0   2020  \n",
       "12  2020  \n",
       "14  2020  \n",
       "18  2020  \n",
       "22  2020  "
      ]
     },
     "execution_count": 472,
     "metadata": {},
     "output_type": "execute_result"
    }
   ],
   "source": [
    "lgv_rows.head()"
   ]
  },
  {
   "cell_type": "code",
   "execution_count": 473,
   "metadata": {},
   "outputs": [
    {
     "name": "stdout",
     "output_type": "stream",
     "text": [
      "<class 'pandas.core.frame.DataFrame'>\n",
      "Int64Index: 24281 entries, 0 to 96894\n",
      "Data columns (total 6 columns):\n",
      " #   Column          Non-Null Count  Dtype \n",
      "---  ------          --------------  ----- \n",
      " 0   region          24281 non-null  object\n",
      " 1   line_code       24281 non-null  object\n",
      " 2   works_category  24281 non-null  object\n",
      " 3   works_duration  24281 non-null  int64 \n",
      " 4   week_no         24281 non-null  int32 \n",
      " 5   year            24281 non-null  int32 \n",
      "dtypes: int32(2), int64(1), object(3)\n",
      "memory usage: 1.1+ MB\n"
     ]
    }
   ],
   "source": [
    "lgv_rows.info()"
   ]
  },
  {
   "cell_type": "markdown",
   "metadata": {},
   "source": [
    "For visualisations purposes, **year** must be an object rather than an integer (we wouldn't wish to view 2019-and-a-half!)."
   ]
  },
  {
   "cell_type": "code",
   "execution_count": 474,
   "metadata": {},
   "outputs": [],
   "source": [
    "lgv_rows['year'] = lgv_rows['year'].astype('int')"
   ]
  },
  {
   "cell_type": "markdown",
   "metadata": {},
   "source": [
    " "
   ]
  },
  {
   "cell_type": "markdown",
   "metadata": {},
   "source": [
    "We can now one-hot encode our works categories and drop the **works_category** source."
   ]
  },
  {
   "cell_type": "code",
   "execution_count": 475,
   "metadata": {},
   "outputs": [],
   "source": [
    "lgv_rows = pd.concat([lgv_rows, pd.get_dummies(lgv_rows['works_category'])], axis=1)"
   ]
  },
  {
   "cell_type": "code",
   "execution_count": 476,
   "metadata": {},
   "outputs": [],
   "source": [
    "lgv_rows = lgv_rows.drop(columns='works_category')"
   ]
  },
  {
   "cell_type": "code",
   "execution_count": 477,
   "metadata": {},
   "outputs": [
    {
     "data": {
      "text/html": [
       "<div>\n",
       "<style scoped>\n",
       "    .dataframe tbody tr th:only-of-type {\n",
       "        vertical-align: middle;\n",
       "    }\n",
       "\n",
       "    .dataframe tbody tr th {\n",
       "        vertical-align: top;\n",
       "    }\n",
       "\n",
       "    .dataframe thead th {\n",
       "        text-align: right;\n",
       "    }\n",
       "</style>\n",
       "<table border=\"1\" class=\"dataframe\">\n",
       "  <thead>\n",
       "    <tr style=\"text-align: right;\">\n",
       "      <th></th>\n",
       "      <th>region</th>\n",
       "      <th>line_code</th>\n",
       "      <th>works_duration</th>\n",
       "      <th>week_no</th>\n",
       "      <th>year</th>\n",
       "      <th>comms_works</th>\n",
       "      <th>land_works</th>\n",
       "      <th>modernisation_works</th>\n",
       "      <th>other_works</th>\n",
       "      <th>overhead_works</th>\n",
       "      <th>signal_works</th>\n",
       "      <th>track_works</th>\n",
       "    </tr>\n",
       "  </thead>\n",
       "  <tbody>\n",
       "    <tr>\n",
       "      <th>0</th>\n",
       "      <td>Rhône-Alpes</td>\n",
       "      <td>900000</td>\n",
       "      <td>25</td>\n",
       "      <td>35</td>\n",
       "      <td>2020</td>\n",
       "      <td>0</td>\n",
       "      <td>0</td>\n",
       "      <td>0</td>\n",
       "      <td>0</td>\n",
       "      <td>0</td>\n",
       "      <td>0</td>\n",
       "      <td>1</td>\n",
       "    </tr>\n",
       "    <tr>\n",
       "      <th>12</th>\n",
       "      <td>Franche-Comté</td>\n",
       "      <td>830000</td>\n",
       "      <td>2</td>\n",
       "      <td>35</td>\n",
       "      <td>2020</td>\n",
       "      <td>0</td>\n",
       "      <td>0</td>\n",
       "      <td>1</td>\n",
       "      <td>0</td>\n",
       "      <td>0</td>\n",
       "      <td>0</td>\n",
       "      <td>0</td>\n",
       "    </tr>\n",
       "    <tr>\n",
       "      <th>14</th>\n",
       "      <td>Bretagne</td>\n",
       "      <td>441000</td>\n",
       "      <td>4</td>\n",
       "      <td>35</td>\n",
       "      <td>2020</td>\n",
       "      <td>0</td>\n",
       "      <td>0</td>\n",
       "      <td>0</td>\n",
       "      <td>0</td>\n",
       "      <td>0</td>\n",
       "      <td>0</td>\n",
       "      <td>1</td>\n",
       "    </tr>\n",
       "    <tr>\n",
       "      <th>18</th>\n",
       "      <td>Bretagne</td>\n",
       "      <td>470000</td>\n",
       "      <td>6</td>\n",
       "      <td>35</td>\n",
       "      <td>2020</td>\n",
       "      <td>0</td>\n",
       "      <td>0</td>\n",
       "      <td>0</td>\n",
       "      <td>0</td>\n",
       "      <td>1</td>\n",
       "      <td>0</td>\n",
       "      <td>0</td>\n",
       "    </tr>\n",
       "    <tr>\n",
       "      <th>22</th>\n",
       "      <td>Champagne-Ardenne</td>\n",
       "      <td>70000</td>\n",
       "      <td>8</td>\n",
       "      <td>35</td>\n",
       "      <td>2020</td>\n",
       "      <td>0</td>\n",
       "      <td>0</td>\n",
       "      <td>0</td>\n",
       "      <td>0</td>\n",
       "      <td>0</td>\n",
       "      <td>1</td>\n",
       "      <td>0</td>\n",
       "    </tr>\n",
       "  </tbody>\n",
       "</table>\n",
       "</div>"
      ],
      "text/plain": [
       "               region line_code  works_duration  week_no  year  comms_works  \\\n",
       "0         Rhône-Alpes    900000              25       35  2020            0   \n",
       "12      Franche-Comté    830000               2       35  2020            0   \n",
       "14           Bretagne    441000               4       35  2020            0   \n",
       "18           Bretagne    470000               6       35  2020            0   \n",
       "22  Champagne-Ardenne     70000               8       35  2020            0   \n",
       "\n",
       "    land_works  modernisation_works  other_works  overhead_works  \\\n",
       "0            0                    0            0               0   \n",
       "12           0                    1            0               0   \n",
       "14           0                    0            0               0   \n",
       "18           0                    0            0               1   \n",
       "22           0                    0            0               0   \n",
       "\n",
       "    signal_works  track_works  \n",
       "0              0            1  \n",
       "12             0            0  \n",
       "14             0            1  \n",
       "18             0            0  \n",
       "22             1            0  "
      ]
     },
     "execution_count": 477,
     "metadata": {},
     "output_type": "execute_result"
    }
   ],
   "source": [
    "lgv_rows.head()"
   ]
  },
  {
   "cell_type": "markdown",
   "metadata": {},
   "source": [
    " "
   ]
  },
  {
   "cell_type": "markdown",
   "metadata": {},
   "source": [
    "Works are still grouped by weeks in the year. Given that our punctuality data breaks routes down into months, we will transform our weekly maintenance records to monthly. Although not a perfect solution, we will *bin* each quarter of a year (i.e. 13 weeks) into three months of 4, 4 and 5 weeks."
   ]
  },
  {
   "cell_type": "code",
   "execution_count": 478,
   "metadata": {},
   "outputs": [
    {
     "name": "stdout",
     "output_type": "stream",
     "text": [
      "Smallest week number:  1\n",
      "Largest week number:  52\n"
     ]
    }
   ],
   "source": [
    "print('Smallest week number: ',lgv_rows['week_no'].min())\n",
    "print('Largest week number: ',lgv_rows['week_no'].max())"
   ]
  },
  {
   "cell_type": "code",
   "execution_count": 479,
   "metadata": {},
   "outputs": [],
   "source": [
    "bins = [0,4,8,13, 17,21,26, 30,34,39, 43,47,52]\n",
    "months = np.arange(1,13)\n",
    "\n",
    "lgv_rows['month'] = pd.cut(lgv_rows['week_no'], bins, labels=months)"
   ]
  },
  {
   "cell_type": "code",
   "execution_count": 480,
   "metadata": {},
   "outputs": [],
   "source": [
    "# drop weeks column\n",
    "lgv_rows = lgv_rows.drop(columns=['week_no'])"
   ]
  },
  {
   "cell_type": "code",
   "execution_count": 481,
   "metadata": {},
   "outputs": [
    {
     "data": {
      "text/html": [
       "<div>\n",
       "<style scoped>\n",
       "    .dataframe tbody tr th:only-of-type {\n",
       "        vertical-align: middle;\n",
       "    }\n",
       "\n",
       "    .dataframe tbody tr th {\n",
       "        vertical-align: top;\n",
       "    }\n",
       "\n",
       "    .dataframe thead th {\n",
       "        text-align: right;\n",
       "    }\n",
       "</style>\n",
       "<table border=\"1\" class=\"dataframe\">\n",
       "  <thead>\n",
       "    <tr style=\"text-align: right;\">\n",
       "      <th></th>\n",
       "      <th>region</th>\n",
       "      <th>line_code</th>\n",
       "      <th>works_duration</th>\n",
       "      <th>year</th>\n",
       "      <th>comms_works</th>\n",
       "      <th>land_works</th>\n",
       "      <th>modernisation_works</th>\n",
       "      <th>other_works</th>\n",
       "      <th>overhead_works</th>\n",
       "      <th>signal_works</th>\n",
       "      <th>track_works</th>\n",
       "      <th>month</th>\n",
       "    </tr>\n",
       "  </thead>\n",
       "  <tbody>\n",
       "    <tr>\n",
       "      <th>0</th>\n",
       "      <td>Rhône-Alpes</td>\n",
       "      <td>900000</td>\n",
       "      <td>25</td>\n",
       "      <td>2020</td>\n",
       "      <td>0</td>\n",
       "      <td>0</td>\n",
       "      <td>0</td>\n",
       "      <td>0</td>\n",
       "      <td>0</td>\n",
       "      <td>0</td>\n",
       "      <td>1</td>\n",
       "      <td>9</td>\n",
       "    </tr>\n",
       "    <tr>\n",
       "      <th>12</th>\n",
       "      <td>Franche-Comté</td>\n",
       "      <td>830000</td>\n",
       "      <td>2</td>\n",
       "      <td>2020</td>\n",
       "      <td>0</td>\n",
       "      <td>0</td>\n",
       "      <td>1</td>\n",
       "      <td>0</td>\n",
       "      <td>0</td>\n",
       "      <td>0</td>\n",
       "      <td>0</td>\n",
       "      <td>9</td>\n",
       "    </tr>\n",
       "    <tr>\n",
       "      <th>14</th>\n",
       "      <td>Bretagne</td>\n",
       "      <td>441000</td>\n",
       "      <td>4</td>\n",
       "      <td>2020</td>\n",
       "      <td>0</td>\n",
       "      <td>0</td>\n",
       "      <td>0</td>\n",
       "      <td>0</td>\n",
       "      <td>0</td>\n",
       "      <td>0</td>\n",
       "      <td>1</td>\n",
       "      <td>9</td>\n",
       "    </tr>\n",
       "    <tr>\n",
       "      <th>18</th>\n",
       "      <td>Bretagne</td>\n",
       "      <td>470000</td>\n",
       "      <td>6</td>\n",
       "      <td>2020</td>\n",
       "      <td>0</td>\n",
       "      <td>0</td>\n",
       "      <td>0</td>\n",
       "      <td>0</td>\n",
       "      <td>1</td>\n",
       "      <td>0</td>\n",
       "      <td>0</td>\n",
       "      <td>9</td>\n",
       "    </tr>\n",
       "    <tr>\n",
       "      <th>22</th>\n",
       "      <td>Champagne-Ardenne</td>\n",
       "      <td>70000</td>\n",
       "      <td>8</td>\n",
       "      <td>2020</td>\n",
       "      <td>0</td>\n",
       "      <td>0</td>\n",
       "      <td>0</td>\n",
       "      <td>0</td>\n",
       "      <td>0</td>\n",
       "      <td>1</td>\n",
       "      <td>0</td>\n",
       "      <td>9</td>\n",
       "    </tr>\n",
       "  </tbody>\n",
       "</table>\n",
       "</div>"
      ],
      "text/plain": [
       "               region line_code  works_duration  year  comms_works  \\\n",
       "0         Rhône-Alpes    900000              25  2020            0   \n",
       "12      Franche-Comté    830000               2  2020            0   \n",
       "14           Bretagne    441000               4  2020            0   \n",
       "18           Bretagne    470000               6  2020            0   \n",
       "22  Champagne-Ardenne     70000               8  2020            0   \n",
       "\n",
       "    land_works  modernisation_works  other_works  overhead_works  \\\n",
       "0            0                    0            0               0   \n",
       "12           0                    1            0               0   \n",
       "14           0                    0            0               0   \n",
       "18           0                    0            0               1   \n",
       "22           0                    0            0               0   \n",
       "\n",
       "    signal_works  track_works month  \n",
       "0              0            1     9  \n",
       "12             0            0     9  \n",
       "14             0            1     9  \n",
       "18             0            0     9  \n",
       "22             1            0     9  "
      ]
     },
     "execution_count": 481,
     "metadata": {},
     "output_type": "execute_result"
    }
   ],
   "source": [
    "lgv_rows.head()"
   ]
  },
  {
   "cell_type": "markdown",
   "metadata": {},
   "source": [
    "We must either record cumulative **works_duration** for each region-line_code combination to ensure that the information is not devalued. However, this would not account for the dirsuption associated with each works type. Therefore, where a *1* is recorded under a works type, we will record the works duration. Consequently, each route will eventually have the cumulative disruption on each of the lines it follows for each month and each works type."
   ]
  },
  {
   "cell_type": "code",
   "execution_count": 484,
   "metadata": {},
   "outputs": [
    {
     "name": "stdout",
     "output_type": "stream",
     "text": [
      "Rhône-Alpes processing\n",
      "Franche-Comté processing\n",
      "Bretagne processing\n",
      "Champagne-Ardenne processing\n",
      "Bourgogne processing\n",
      "Languedoc-Roussillon processing\n",
      "Lorraine processing\n",
      "Provence-Alpes-Côte-d'Azur processing\n",
      "Île-de-France processing\n",
      "Pays de la Loire processing\n",
      "Alsace processing\n",
      "Midi-Pyrénées processing\n",
      "Poitou-Charentes processing\n",
      "Aquitaine processing\n",
      "Auvergne processing\n",
      "Centre processing\n",
      "Nord-Pas-de-Calais processing\n"
     ]
    }
   ],
   "source": [
    "output_list = []\n",
    "\n",
    "region = lgv_rows['region'].unique()\n",
    "line_code = lgv_rows['line_code'].unique()\n",
    "year = lgv_rows['year'].unique()\n",
    "month = lgv_rows['month'].unique()\n",
    "\n",
    "for r in region:\n",
    "    print(f'{r} processing')\n",
    "    for l in line_code:\n",
    "        for y in year:\n",
    "            for m in month:\n",
    "\n",
    "                temp = lgv_rows[(lgv_rows['region']==r) & \n",
    "                         (lgv_rows['line_code']==l) & \n",
    "                        (lgv_rows['year']==y) & \n",
    "                        (lgv_rows['month']==m)].reset_index()\n",
    "\n",
    "                details = temp.loc[:,['comms_works','land_works','modernisation_works','other_works','overhead_works','signal_works','track_works']]. \\\n",
    "                           multiply(temp.loc[:, 'works_duration'], axis=\"index\").sum()\n",
    "\n",
    "                output = (y,m,r,l, details[0], details[1], details[2], details[3], details[4], details[5], details[6])\n",
    "\n",
    "                output_list.append(output)"
   ]
  },
  {
   "cell_type": "code",
   "execution_count": 486,
   "metadata": {},
   "outputs": [],
   "source": [
    "maintenance_agg = pd.DataFrame(output_list, columns=['year','month','region','line_code','comms_works','land_works','modernisation_works','other_works','overhead_works','signal_works','track_works'])"
   ]
  },
  {
   "cell_type": "code",
   "execution_count": 487,
   "metadata": {},
   "outputs": [
    {
     "data": {
      "text/html": [
       "<div>\n",
       "<style scoped>\n",
       "    .dataframe tbody tr th:only-of-type {\n",
       "        vertical-align: middle;\n",
       "    }\n",
       "\n",
       "    .dataframe tbody tr th {\n",
       "        vertical-align: top;\n",
       "    }\n",
       "\n",
       "    .dataframe thead th {\n",
       "        text-align: right;\n",
       "    }\n",
       "</style>\n",
       "<table border=\"1\" class=\"dataframe\">\n",
       "  <thead>\n",
       "    <tr style=\"text-align: right;\">\n",
       "      <th></th>\n",
       "      <th>year</th>\n",
       "      <th>month</th>\n",
       "      <th>region</th>\n",
       "      <th>line_code</th>\n",
       "      <th>comms_works</th>\n",
       "      <th>land_works</th>\n",
       "      <th>modernisation_works</th>\n",
       "      <th>other_works</th>\n",
       "      <th>overhead_works</th>\n",
       "      <th>signal_works</th>\n",
       "      <th>track_works</th>\n",
       "    </tr>\n",
       "  </thead>\n",
       "  <tbody>\n",
       "    <tr>\n",
       "      <th>0</th>\n",
       "      <td>2020</td>\n",
       "      <td>9</td>\n",
       "      <td>Rhône-Alpes</td>\n",
       "      <td>900000</td>\n",
       "      <td>0.0</td>\n",
       "      <td>12.0</td>\n",
       "      <td>0.0</td>\n",
       "      <td>117.0</td>\n",
       "      <td>63.0</td>\n",
       "      <td>38.0</td>\n",
       "      <td>90.0</td>\n",
       "    </tr>\n",
       "    <tr>\n",
       "      <th>1</th>\n",
       "      <td>2020</td>\n",
       "      <td>1</td>\n",
       "      <td>Rhône-Alpes</td>\n",
       "      <td>900000</td>\n",
       "      <td>0.0</td>\n",
       "      <td>0.0</td>\n",
       "      <td>0.0</td>\n",
       "      <td>82.0</td>\n",
       "      <td>17.0</td>\n",
       "      <td>17.0</td>\n",
       "      <td>32.0</td>\n",
       "    </tr>\n",
       "    <tr>\n",
       "      <th>2</th>\n",
       "      <td>2020</td>\n",
       "      <td>2</td>\n",
       "      <td>Rhône-Alpes</td>\n",
       "      <td>900000</td>\n",
       "      <td>0.0</td>\n",
       "      <td>0.0</td>\n",
       "      <td>0.0</td>\n",
       "      <td>79.0</td>\n",
       "      <td>21.0</td>\n",
       "      <td>16.0</td>\n",
       "      <td>35.0</td>\n",
       "    </tr>\n",
       "    <tr>\n",
       "      <th>3</th>\n",
       "      <td>2020</td>\n",
       "      <td>3</td>\n",
       "      <td>Rhône-Alpes</td>\n",
       "      <td>900000</td>\n",
       "      <td>0.0</td>\n",
       "      <td>8.0</td>\n",
       "      <td>0.0</td>\n",
       "      <td>184.0</td>\n",
       "      <td>42.0</td>\n",
       "      <td>17.0</td>\n",
       "      <td>44.0</td>\n",
       "    </tr>\n",
       "    <tr>\n",
       "      <th>4</th>\n",
       "      <td>2020</td>\n",
       "      <td>4</td>\n",
       "      <td>Rhône-Alpes</td>\n",
       "      <td>900000</td>\n",
       "      <td>2.0</td>\n",
       "      <td>6.0</td>\n",
       "      <td>0.0</td>\n",
       "      <td>71.0</td>\n",
       "      <td>12.0</td>\n",
       "      <td>16.0</td>\n",
       "      <td>28.0</td>\n",
       "    </tr>\n",
       "  </tbody>\n",
       "</table>\n",
       "</div>"
      ],
      "text/plain": [
       "   year  month       region line_code  comms_works  land_works  \\\n",
       "0  2020      9  Rhône-Alpes    900000          0.0        12.0   \n",
       "1  2020      1  Rhône-Alpes    900000          0.0         0.0   \n",
       "2  2020      2  Rhône-Alpes    900000          0.0         0.0   \n",
       "3  2020      3  Rhône-Alpes    900000          0.0         8.0   \n",
       "4  2020      4  Rhône-Alpes    900000          2.0         6.0   \n",
       "\n",
       "   modernisation_works  other_works  overhead_works  signal_works  track_works  \n",
       "0                  0.0        117.0            63.0          38.0         90.0  \n",
       "1                  0.0         82.0            17.0          17.0         32.0  \n",
       "2                  0.0         79.0            21.0          16.0         35.0  \n",
       "3                  0.0        184.0            42.0          17.0         44.0  \n",
       "4                  0.0         71.0            12.0          16.0         28.0  "
      ]
     },
     "execution_count": 487,
     "metadata": {},
     "output_type": "execute_result"
    }
   ],
   "source": [
    "maintenance_agg.head()"
   ]
  },
  {
   "cell_type": "markdown",
   "metadata": {},
   "source": [
    "We see that works durations are now aggregated by month as intended. The maintenance dataset is now ready to be exported."
   ]
  },
  {
   "cell_type": "code",
   "execution_count": 488,
   "metadata": {},
   "outputs": [],
   "source": [
    "# export updated dataset\n",
    "maintenance_agg.to_csv('data/maintenance_finalised.csv', index=False)"
   ]
  }
 ],
 "metadata": {
  "kernelspec": {
   "display_name": "Python 3",
   "language": "python",
   "name": "python3"
  },
  "language_info": {
   "codemirror_mode": {
    "name": "ipython",
    "version": 3
   },
   "file_extension": ".py",
   "mimetype": "text/x-python",
   "name": "python",
   "nbconvert_exporter": "python",
   "pygments_lexer": "ipython3",
   "version": "3.8.8"
  },
  "toc": {
   "base_numbering": 1,
   "nav_menu": {},
   "number_sections": false,
   "sideBar": true,
   "skip_h1_title": false,
   "title_cell": "Table of Contents",
   "title_sidebar": "Contents",
   "toc_cell": false,
   "toc_position": {},
   "toc_section_display": true,
   "toc_window_display": false
  }
 },
 "nbformat": 4,
 "nbformat_minor": 4
}
