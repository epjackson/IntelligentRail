{
 "cells": [
  {
   "cell_type": "markdown",
   "id": "photographic-huntington",
   "metadata": {},
   "source": [
    "# INTELLIGENT RAIL"
   ]
  },
  {
   "cell_type": "markdown",
   "id": "colored-candidate",
   "metadata": {},
   "source": [
    "## Edward Jackson"
   ]
  },
  {
   "cell_type": "markdown",
   "id": "human-defense",
   "metadata": {},
   "source": [
    "##### Notebook 6 of 6 - Model evaluation and insights"
   ]
  },
  {
   "cell_type": "code",
   "execution_count": 1,
   "id": "successful-concrete",
   "metadata": {},
   "outputs": [
    {
     "name": "stdout",
     "output_type": "stream",
     "text": [
      "Requirement already satisfied: xgboost in c:\\users\\epjac\\anaconda3\\lib\\site-packages (1.3.3)\n",
      "Requirement already satisfied: scipy in c:\\users\\epjac\\anaconda3\\lib\\site-packages (from xgboost) (1.6.2)\n",
      "Requirement already satisfied: numpy in c:\\users\\epjac\\anaconda3\\lib\\site-packages (from xgboost) (1.19.2)\n",
      "Requirement already satisfied: tensorflow in c:\\users\\epjac\\anaconda3\\lib\\site-packages (2.4.1)\n",
      "Requirement already satisfied: keras-preprocessing~=1.1.2 in c:\\users\\epjac\\anaconda3\\lib\\site-packages (from tensorflow) (1.1.2)\n",
      "Requirement already satisfied: wheel~=0.35 in c:\\users\\epjac\\anaconda3\\lib\\site-packages (from tensorflow) (0.36.2)\n",
      "Requirement already satisfied: tensorboard~=2.4 in c:\\users\\epjac\\anaconda3\\lib\\site-packages (from tensorflow) (2.4.1)\n",
      "Requirement already satisfied: six~=1.15.0 in c:\\users\\epjac\\anaconda3\\lib\\site-packages (from tensorflow) (1.15.0)\n",
      "Requirement already satisfied: tensorflow-estimator<2.5.0,>=2.4.0 in c:\\users\\epjac\\anaconda3\\lib\\site-packages (from tensorflow) (2.4.0)\n",
      "Requirement already satisfied: absl-py~=0.10 in c:\\users\\epjac\\anaconda3\\lib\\site-packages (from tensorflow) (0.12.0)\n",
      "Requirement already satisfied: protobuf>=3.9.2 in c:\\users\\epjac\\anaconda3\\lib\\site-packages (from tensorflow) (3.15.6)\n",
      "Requirement already satisfied: gast==0.3.3 in c:\\users\\epjac\\anaconda3\\lib\\site-packages (from tensorflow) (0.3.3)\n",
      "Requirement already satisfied: grpcio~=1.32.0 in c:\\users\\epjac\\anaconda3\\lib\\site-packages (from tensorflow) (1.32.0)\n",
      "Requirement already satisfied: google-pasta~=0.2 in c:\\users\\epjac\\anaconda3\\lib\\site-packages (from tensorflow) (0.2.0)\n",
      "Requirement already satisfied: wrapt~=1.12.1 in c:\\users\\epjac\\anaconda3\\lib\\site-packages (from tensorflow) (1.12.1)\n",
      "Requirement already satisfied: opt-einsum~=3.3.0 in c:\\users\\epjac\\anaconda3\\lib\\site-packages (from tensorflow) (3.3.0)\n",
      "Requirement already satisfied: flatbuffers~=1.12.0 in c:\\users\\epjac\\anaconda3\\lib\\site-packages (from tensorflow) (1.12)\n",
      "Requirement already satisfied: termcolor~=1.1.0 in c:\\users\\epjac\\anaconda3\\lib\\site-packages (from tensorflow) (1.1.0)\n",
      "Requirement already satisfied: astunparse~=1.6.3 in c:\\users\\epjac\\anaconda3\\lib\\site-packages (from tensorflow) (1.6.3)\n",
      "Requirement already satisfied: h5py~=2.10.0 in c:\\users\\epjac\\anaconda3\\lib\\site-packages (from tensorflow) (2.10.0)\n",
      "Requirement already satisfied: typing-extensions~=3.7.4 in c:\\users\\epjac\\anaconda3\\lib\\site-packages (from tensorflow) (3.7.4.3)\n",
      "Requirement already satisfied: numpy~=1.19.2 in c:\\users\\epjac\\anaconda3\\lib\\site-packages (from tensorflow) (1.19.2)\n",
      "Requirement already satisfied: tensorboard-plugin-wit>=1.6.0 in c:\\users\\epjac\\anaconda3\\lib\\site-packages (from tensorboard~=2.4->tensorflow) (1.8.0)\n",
      "Requirement already satisfied: google-auth-oauthlib<0.5,>=0.4.1 in c:\\users\\epjac\\anaconda3\\lib\\site-packages (from tensorboard~=2.4->tensorflow) (0.4.3)\n",
      "Requirement already satisfied: google-auth<2,>=1.6.3 in c:\\users\\epjac\\anaconda3\\lib\\site-packages (from tensorboard~=2.4->tensorflow) (1.28.0)\n",
      "Requirement already satisfied: requests<3,>=2.21.0 in c:\\users\\epjac\\anaconda3\\lib\\site-packages (from tensorboard~=2.4->tensorflow) (2.25.1)\n",
      "Requirement already satisfied: setuptools>=41.0.0 in c:\\users\\epjac\\anaconda3\\lib\\site-packages (from tensorboard~=2.4->tensorflow) (52.0.0.post20210125)\n",
      "Requirement already satisfied: markdown>=2.6.8 in c:\\users\\epjac\\anaconda3\\lib\\site-packages (from tensorboard~=2.4->tensorflow) (3.3.4)\n",
      "Requirement already satisfied: werkzeug>=0.11.15 in c:\\users\\epjac\\anaconda3\\lib\\site-packages (from tensorboard~=2.4->tensorflow) (1.0.1)\n",
      "Requirement already satisfied: rsa<5,>=3.1.4 in c:\\users\\epjac\\anaconda3\\lib\\site-packages (from google-auth<2,>=1.6.3->tensorboard~=2.4->tensorflow) (4.5)\n",
      "Requirement already satisfied: cachetools<5.0,>=2.0.0 in c:\\users\\epjac\\anaconda3\\lib\\site-packages (from google-auth<2,>=1.6.3->tensorboard~=2.4->tensorflow) (4.2.1)\n",
      "Requirement already satisfied: pyasn1-modules>=0.2.1 in c:\\users\\epjac\\anaconda3\\lib\\site-packages (from google-auth<2,>=1.6.3->tensorboard~=2.4->tensorflow) (0.2.8)\n",
      "Requirement already satisfied: requests-oauthlib>=0.7.0 in c:\\users\\epjac\\anaconda3\\lib\\site-packages (from google-auth-oauthlib<0.5,>=0.4.1->tensorboard~=2.4->tensorflow) (1.3.0)\n",
      "Requirement already satisfied: pyasn1<0.5.0,>=0.4.6 in c:\\users\\epjac\\anaconda3\\lib\\site-packages (from pyasn1-modules>=0.2.1->google-auth<2,>=1.6.3->tensorboard~=2.4->tensorflow) (0.4.8)\n",
      "Requirement already satisfied: urllib3<1.27,>=1.21.1 in c:\\users\\epjac\\anaconda3\\lib\\site-packages (from requests<3,>=2.21.0->tensorboard~=2.4->tensorflow) (1.26.4)\n",
      "Requirement already satisfied: certifi>=2017.4.17 in c:\\users\\epjac\\anaconda3\\lib\\site-packages (from requests<3,>=2.21.0->tensorboard~=2.4->tensorflow) (2020.12.5)\n",
      "Requirement already satisfied: idna<3,>=2.5 in c:\\users\\epjac\\anaconda3\\lib\\site-packages (from requests<3,>=2.21.0->tensorboard~=2.4->tensorflow) (2.10)\n",
      "Requirement already satisfied: chardet<5,>=3.0.2 in c:\\users\\epjac\\anaconda3\\lib\\site-packages (from requests<3,>=2.21.0->tensorboard~=2.4->tensorflow) (3.0.4)\n",
      "Requirement already satisfied: oauthlib>=3.0.0 in c:\\users\\epjac\\anaconda3\\lib\\site-packages (from requests-oauthlib>=0.7.0->google-auth-oauthlib<0.5,>=0.4.1->tensorboard~=2.4->tensorflow) (3.1.0)\n",
      "Requirement already satisfied: keras in c:\\users\\epjac\\anaconda3\\lib\\site-packages (2.4.3)\n",
      "Requirement already satisfied: pyyaml in c:\\users\\epjac\\anaconda3\\lib\\site-packages (from keras) (5.4.1)\n",
      "Requirement already satisfied: scipy>=0.14 in c:\\users\\epjac\\anaconda3\\lib\\site-packages (from keras) (1.6.2)\n",
      "Requirement already satisfied: h5py in c:\\users\\epjac\\anaconda3\\lib\\site-packages (from keras) (2.10.0)\n",
      "Requirement already satisfied: numpy>=1.9.1 in c:\\users\\epjac\\anaconda3\\lib\\site-packages (from keras) (1.19.2)\n",
      "Requirement already satisfied: six in c:\\users\\epjac\\anaconda3\\lib\\site-packages (from h5py->keras) (1.15.0)\n"
     ]
    }
   ],
   "source": [
    "import pandas as pd\n",
    "import numpy as np\n",
    "import matplotlib.pyplot as plt\n",
    "import pickle\n",
    "from sklearn.metrics import accuracy_score\n",
    "from sklearn.metrics import confusion_matrix, ConfusionMatrixDisplay\n",
    "from sklearn.metrics import precision_score\n",
    "from sklearn.metrics import recall_score\n",
    "from sklearn.metrics import f1_score\n",
    "from sklearn.metrics import classification_report\n",
    "\n",
    "from sklearn.linear_model import LogisticRegression\n",
    "from sklearn.svm import SVC\n",
    "from sklearn.ensemble import RandomForestClassifier\n",
    "\n",
    "from xgboost import XGBClassifier\n",
    "\n",
    "import tensorflow as tf\n",
    "from tensorflow import keras"
   ]
  },
  {
   "cell_type": "markdown",
   "id": "coupled-sunrise",
   "metadata": {},
   "source": [
    " "
   ]
  },
  {
   "cell_type": "markdown",
   "id": "charged-munich",
   "metadata": {},
   "source": [
    "We import the test data set aside in the previous notebook. Recall that this data has been scaled using a scaler fitted to training data; a separate version also underwent principal component analysis."
   ]
  },
  {
   "cell_type": "code",
   "execution_count": 2,
   "id": "swiss-china",
   "metadata": {},
   "outputs": [],
   "source": [
    "test_data = pd.read_csv('data/test_data.csv')"
   ]
  },
  {
   "cell_type": "code",
   "execution_count": 3,
   "id": "matched-horizon",
   "metadata": {},
   "outputs": [
    {
     "data": {
      "text/html": [
       "<div>\n",
       "<style scoped>\n",
       "    .dataframe tbody tr th:only-of-type {\n",
       "        vertical-align: middle;\n",
       "    }\n",
       "\n",
       "    .dataframe tbody tr th {\n",
       "        vertical-align: top;\n",
       "    }\n",
       "\n",
       "    .dataframe thead th {\n",
       "        text-align: right;\n",
       "    }\n",
       "</style>\n",
       "<table border=\"1\" class=\"dataframe\">\n",
       "  <thead>\n",
       "    <tr style=\"text-align: right;\">\n",
       "      <th></th>\n",
       "      <th>month</th>\n",
       "      <th>avg_time_mins</th>\n",
       "      <th>expected_journeys</th>\n",
       "      <th>delayed_departures</th>\n",
       "      <th>avg_delay_departure_all_trains_mins</th>\n",
       "      <th>avg_delay_arrival_all_trains_mins</th>\n",
       "      <th>delay_external_cause_%</th>\n",
       "      <th>delay_maintenance_%</th>\n",
       "      <th>delay_signalling_%</th>\n",
       "      <th>delay_rolling_stock_%</th>\n",
       "      <th>...</th>\n",
       "      <th>arr__VALENCE ALIXAN TGV</th>\n",
       "      <th>arr__VANNES</th>\n",
       "      <th>comms_works</th>\n",
       "      <th>land_works</th>\n",
       "      <th>modernisation_works</th>\n",
       "      <th>other_works</th>\n",
       "      <th>overhead_works</th>\n",
       "      <th>signal_works</th>\n",
       "      <th>track_works</th>\n",
       "      <th>target</th>\n",
       "    </tr>\n",
       "  </thead>\n",
       "  <tbody>\n",
       "    <tr>\n",
       "      <th>0</th>\n",
       "      <td>-0.833333</td>\n",
       "      <td>0.383627</td>\n",
       "      <td>-0.723502</td>\n",
       "      <td>-0.341880</td>\n",
       "      <td>-0.330110</td>\n",
       "      <td>-0.091917</td>\n",
       "      <td>0.482297</td>\n",
       "      <td>-0.783686</td>\n",
       "      <td>0.665734</td>\n",
       "      <td>0.098485</td>\n",
       "      <td>...</td>\n",
       "      <td>0.0</td>\n",
       "      <td>0.0</td>\n",
       "      <td>0.0</td>\n",
       "      <td>0.0</td>\n",
       "      <td>0.0</td>\n",
       "      <td>0.000000</td>\n",
       "      <td>0.000000</td>\n",
       "      <td>0.000000</td>\n",
       "      <td>0.000000</td>\n",
       "      <td>1</td>\n",
       "    </tr>\n",
       "    <tr>\n",
       "      <th>1</th>\n",
       "      <td>-0.666667</td>\n",
       "      <td>-0.769403</td>\n",
       "      <td>-0.299539</td>\n",
       "      <td>-0.290598</td>\n",
       "      <td>-0.124653</td>\n",
       "      <td>-0.462860</td>\n",
       "      <td>1.536842</td>\n",
       "      <td>-1.277118</td>\n",
       "      <td>-0.394872</td>\n",
       "      <td>0.000000</td>\n",
       "      <td>...</td>\n",
       "      <td>0.0</td>\n",
       "      <td>0.0</td>\n",
       "      <td>0.0</td>\n",
       "      <td>0.0</td>\n",
       "      <td>0.0</td>\n",
       "      <td>0.000000</td>\n",
       "      <td>0.000000</td>\n",
       "      <td>0.000000</td>\n",
       "      <td>0.000000</td>\n",
       "      <td>1</td>\n",
       "    </tr>\n",
       "    <tr>\n",
       "      <th>2</th>\n",
       "      <td>0.166667</td>\n",
       "      <td>1.583949</td>\n",
       "      <td>-0.898618</td>\n",
       "      <td>0.068376</td>\n",
       "      <td>7.502761</td>\n",
       "      <td>0.446896</td>\n",
       "      <td>-0.463158</td>\n",
       "      <td>-0.372493</td>\n",
       "      <td>1.005128</td>\n",
       "      <td>0.000000</td>\n",
       "      <td>...</td>\n",
       "      <td>0.0</td>\n",
       "      <td>0.0</td>\n",
       "      <td>0.0</td>\n",
       "      <td>2.0</td>\n",
       "      <td>3.0</td>\n",
       "      <td>1.062500</td>\n",
       "      <td>0.829268</td>\n",
       "      <td>7.333333</td>\n",
       "      <td>7.750000</td>\n",
       "      <td>1</td>\n",
       "    </tr>\n",
       "    <tr>\n",
       "      <th>3</th>\n",
       "      <td>0.833333</td>\n",
       "      <td>-0.231524</td>\n",
       "      <td>1.566820</td>\n",
       "      <td>7.111111</td>\n",
       "      <td>0.565626</td>\n",
       "      <td>-0.211334</td>\n",
       "      <td>-0.018713</td>\n",
       "      <td>-0.875062</td>\n",
       "      <td>0.486610</td>\n",
       "      <td>0.361111</td>\n",
       "      <td>...</td>\n",
       "      <td>0.0</td>\n",
       "      <td>0.0</td>\n",
       "      <td>0.0</td>\n",
       "      <td>0.0</td>\n",
       "      <td>0.0</td>\n",
       "      <td>1.041667</td>\n",
       "      <td>1.000000</td>\n",
       "      <td>0.000000</td>\n",
       "      <td>0.000000</td>\n",
       "      <td>0</td>\n",
       "    </tr>\n",
       "    <tr>\n",
       "      <th>4</th>\n",
       "      <td>0.333333</td>\n",
       "      <td>-0.449804</td>\n",
       "      <td>0.668203</td>\n",
       "      <td>5.025641</td>\n",
       "      <td>0.974849</td>\n",
       "      <td>-0.338766</td>\n",
       "      <td>0.236842</td>\n",
       "      <td>-0.429032</td>\n",
       "      <td>0.713462</td>\n",
       "      <td>0.135417</td>\n",
       "      <td>...</td>\n",
       "      <td>0.0</td>\n",
       "      <td>0.0</td>\n",
       "      <td>0.0</td>\n",
       "      <td>1.0</td>\n",
       "      <td>10.0</td>\n",
       "      <td>2.708333</td>\n",
       "      <td>4.439024</td>\n",
       "      <td>12.333333</td>\n",
       "      <td>8.722222</td>\n",
       "      <td>0</td>\n",
       "    </tr>\n",
       "  </tbody>\n",
       "</table>\n",
       "<p>5 rows × 177 columns</p>\n",
       "</div>"
      ],
      "text/plain": [
       "      month  avg_time_mins  expected_journeys  delayed_departures  \\\n",
       "0 -0.833333       0.383627          -0.723502           -0.341880   \n",
       "1 -0.666667      -0.769403          -0.299539           -0.290598   \n",
       "2  0.166667       1.583949          -0.898618            0.068376   \n",
       "3  0.833333      -0.231524           1.566820            7.111111   \n",
       "4  0.333333      -0.449804           0.668203            5.025641   \n",
       "\n",
       "   avg_delay_departure_all_trains_mins  avg_delay_arrival_all_trains_mins  \\\n",
       "0                            -0.330110                          -0.091917   \n",
       "1                            -0.124653                          -0.462860   \n",
       "2                             7.502761                           0.446896   \n",
       "3                             0.565626                          -0.211334   \n",
       "4                             0.974849                          -0.338766   \n",
       "\n",
       "   delay_external_cause_%  delay_maintenance_%  delay_signalling_%  \\\n",
       "0                0.482297            -0.783686            0.665734   \n",
       "1                1.536842            -1.277118           -0.394872   \n",
       "2               -0.463158            -0.372493            1.005128   \n",
       "3               -0.018713            -0.875062            0.486610   \n",
       "4                0.236842            -0.429032            0.713462   \n",
       "\n",
       "   delay_rolling_stock_%  ...  arr__VALENCE ALIXAN TGV  arr__VANNES  \\\n",
       "0               0.098485  ...                      0.0          0.0   \n",
       "1               0.000000  ...                      0.0          0.0   \n",
       "2               0.000000  ...                      0.0          0.0   \n",
       "3               0.361111  ...                      0.0          0.0   \n",
       "4               0.135417  ...                      0.0          0.0   \n",
       "\n",
       "   comms_works  land_works  modernisation_works  other_works  overhead_works  \\\n",
       "0          0.0         0.0                  0.0     0.000000        0.000000   \n",
       "1          0.0         0.0                  0.0     0.000000        0.000000   \n",
       "2          0.0         2.0                  3.0     1.062500        0.829268   \n",
       "3          0.0         0.0                  0.0     1.041667        1.000000   \n",
       "4          0.0         1.0                 10.0     2.708333        4.439024   \n",
       "\n",
       "   signal_works  track_works  target  \n",
       "0      0.000000     0.000000       1  \n",
       "1      0.000000     0.000000       1  \n",
       "2      7.333333     7.750000       1  \n",
       "3      0.000000     0.000000       0  \n",
       "4     12.333333     8.722222       0  \n",
       "\n",
       "[5 rows x 177 columns]"
      ]
     },
     "execution_count": 3,
     "metadata": {},
     "output_type": "execute_result"
    }
   ],
   "source": [
    "test_data.head()"
   ]
  },
  {
   "cell_type": "code",
   "execution_count": 4,
   "id": "ranking-pakistan",
   "metadata": {},
   "outputs": [],
   "source": [
    "X_test = test_data.iloc[:,:-1]\n",
    "y_test = test_data['target']"
   ]
  },
  {
   "cell_type": "code",
   "execution_count": 5,
   "id": "composite-edition",
   "metadata": {},
   "outputs": [
    {
     "data": {
      "text/html": [
       "<div>\n",
       "<style scoped>\n",
       "    .dataframe tbody tr th:only-of-type {\n",
       "        vertical-align: middle;\n",
       "    }\n",
       "\n",
       "    .dataframe tbody tr th {\n",
       "        vertical-align: top;\n",
       "    }\n",
       "\n",
       "    .dataframe thead th {\n",
       "        text-align: right;\n",
       "    }\n",
       "</style>\n",
       "<table border=\"1\" class=\"dataframe\">\n",
       "  <thead>\n",
       "    <tr style=\"text-align: right;\">\n",
       "      <th></th>\n",
       "      <th>month</th>\n",
       "      <th>avg_time_mins</th>\n",
       "      <th>expected_journeys</th>\n",
       "      <th>delayed_departures</th>\n",
       "      <th>avg_delay_departure_all_trains_mins</th>\n",
       "      <th>avg_delay_arrival_all_trains_mins</th>\n",
       "      <th>delay_external_cause_%</th>\n",
       "      <th>delay_maintenance_%</th>\n",
       "      <th>delay_signalling_%</th>\n",
       "      <th>delay_rolling_stock_%</th>\n",
       "      <th>...</th>\n",
       "      <th>arr__TOURS</th>\n",
       "      <th>arr__VALENCE ALIXAN TGV</th>\n",
       "      <th>arr__VANNES</th>\n",
       "      <th>comms_works</th>\n",
       "      <th>land_works</th>\n",
       "      <th>modernisation_works</th>\n",
       "      <th>other_works</th>\n",
       "      <th>overhead_works</th>\n",
       "      <th>signal_works</th>\n",
       "      <th>track_works</th>\n",
       "    </tr>\n",
       "  </thead>\n",
       "  <tbody>\n",
       "    <tr>\n",
       "      <th>0</th>\n",
       "      <td>-0.833333</td>\n",
       "      <td>0.383627</td>\n",
       "      <td>-0.723502</td>\n",
       "      <td>-0.341880</td>\n",
       "      <td>-0.330110</td>\n",
       "      <td>-0.091917</td>\n",
       "      <td>0.482297</td>\n",
       "      <td>-0.783686</td>\n",
       "      <td>0.665734</td>\n",
       "      <td>0.098485</td>\n",
       "      <td>...</td>\n",
       "      <td>0.0</td>\n",
       "      <td>0.0</td>\n",
       "      <td>0.0</td>\n",
       "      <td>0.0</td>\n",
       "      <td>0.0</td>\n",
       "      <td>0.0</td>\n",
       "      <td>0.000000</td>\n",
       "      <td>0.000000</td>\n",
       "      <td>0.000000</td>\n",
       "      <td>0.000000</td>\n",
       "    </tr>\n",
       "    <tr>\n",
       "      <th>1</th>\n",
       "      <td>-0.666667</td>\n",
       "      <td>-0.769403</td>\n",
       "      <td>-0.299539</td>\n",
       "      <td>-0.290598</td>\n",
       "      <td>-0.124653</td>\n",
       "      <td>-0.462860</td>\n",
       "      <td>1.536842</td>\n",
       "      <td>-1.277118</td>\n",
       "      <td>-0.394872</td>\n",
       "      <td>0.000000</td>\n",
       "      <td>...</td>\n",
       "      <td>0.0</td>\n",
       "      <td>0.0</td>\n",
       "      <td>0.0</td>\n",
       "      <td>0.0</td>\n",
       "      <td>0.0</td>\n",
       "      <td>0.0</td>\n",
       "      <td>0.000000</td>\n",
       "      <td>0.000000</td>\n",
       "      <td>0.000000</td>\n",
       "      <td>0.000000</td>\n",
       "    </tr>\n",
       "    <tr>\n",
       "      <th>2</th>\n",
       "      <td>0.166667</td>\n",
       "      <td>1.583949</td>\n",
       "      <td>-0.898618</td>\n",
       "      <td>0.068376</td>\n",
       "      <td>7.502761</td>\n",
       "      <td>0.446896</td>\n",
       "      <td>-0.463158</td>\n",
       "      <td>-0.372493</td>\n",
       "      <td>1.005128</td>\n",
       "      <td>0.000000</td>\n",
       "      <td>...</td>\n",
       "      <td>0.0</td>\n",
       "      <td>0.0</td>\n",
       "      <td>0.0</td>\n",
       "      <td>0.0</td>\n",
       "      <td>2.0</td>\n",
       "      <td>3.0</td>\n",
       "      <td>1.062500</td>\n",
       "      <td>0.829268</td>\n",
       "      <td>7.333333</td>\n",
       "      <td>7.750000</td>\n",
       "    </tr>\n",
       "    <tr>\n",
       "      <th>3</th>\n",
       "      <td>0.833333</td>\n",
       "      <td>-0.231524</td>\n",
       "      <td>1.566820</td>\n",
       "      <td>7.111111</td>\n",
       "      <td>0.565626</td>\n",
       "      <td>-0.211334</td>\n",
       "      <td>-0.018713</td>\n",
       "      <td>-0.875062</td>\n",
       "      <td>0.486610</td>\n",
       "      <td>0.361111</td>\n",
       "      <td>...</td>\n",
       "      <td>0.0</td>\n",
       "      <td>0.0</td>\n",
       "      <td>0.0</td>\n",
       "      <td>0.0</td>\n",
       "      <td>0.0</td>\n",
       "      <td>0.0</td>\n",
       "      <td>1.041667</td>\n",
       "      <td>1.000000</td>\n",
       "      <td>0.000000</td>\n",
       "      <td>0.000000</td>\n",
       "    </tr>\n",
       "    <tr>\n",
       "      <th>4</th>\n",
       "      <td>0.333333</td>\n",
       "      <td>-0.449804</td>\n",
       "      <td>0.668203</td>\n",
       "      <td>5.025641</td>\n",
       "      <td>0.974849</td>\n",
       "      <td>-0.338766</td>\n",
       "      <td>0.236842</td>\n",
       "      <td>-0.429032</td>\n",
       "      <td>0.713462</td>\n",
       "      <td>0.135417</td>\n",
       "      <td>...</td>\n",
       "      <td>0.0</td>\n",
       "      <td>0.0</td>\n",
       "      <td>0.0</td>\n",
       "      <td>0.0</td>\n",
       "      <td>1.0</td>\n",
       "      <td>10.0</td>\n",
       "      <td>2.708333</td>\n",
       "      <td>4.439024</td>\n",
       "      <td>12.333333</td>\n",
       "      <td>8.722222</td>\n",
       "    </tr>\n",
       "  </tbody>\n",
       "</table>\n",
       "<p>5 rows × 176 columns</p>\n",
       "</div>"
      ],
      "text/plain": [
       "      month  avg_time_mins  expected_journeys  delayed_departures  \\\n",
       "0 -0.833333       0.383627          -0.723502           -0.341880   \n",
       "1 -0.666667      -0.769403          -0.299539           -0.290598   \n",
       "2  0.166667       1.583949          -0.898618            0.068376   \n",
       "3  0.833333      -0.231524           1.566820            7.111111   \n",
       "4  0.333333      -0.449804           0.668203            5.025641   \n",
       "\n",
       "   avg_delay_departure_all_trains_mins  avg_delay_arrival_all_trains_mins  \\\n",
       "0                            -0.330110                          -0.091917   \n",
       "1                            -0.124653                          -0.462860   \n",
       "2                             7.502761                           0.446896   \n",
       "3                             0.565626                          -0.211334   \n",
       "4                             0.974849                          -0.338766   \n",
       "\n",
       "   delay_external_cause_%  delay_maintenance_%  delay_signalling_%  \\\n",
       "0                0.482297            -0.783686            0.665734   \n",
       "1                1.536842            -1.277118           -0.394872   \n",
       "2               -0.463158            -0.372493            1.005128   \n",
       "3               -0.018713            -0.875062            0.486610   \n",
       "4                0.236842            -0.429032            0.713462   \n",
       "\n",
       "   delay_rolling_stock_%  ...  arr__TOURS  arr__VALENCE ALIXAN TGV  \\\n",
       "0               0.098485  ...         0.0                      0.0   \n",
       "1               0.000000  ...         0.0                      0.0   \n",
       "2               0.000000  ...         0.0                      0.0   \n",
       "3               0.361111  ...         0.0                      0.0   \n",
       "4               0.135417  ...         0.0                      0.0   \n",
       "\n",
       "   arr__VANNES  comms_works  land_works  modernisation_works  other_works  \\\n",
       "0          0.0          0.0         0.0                  0.0     0.000000   \n",
       "1          0.0          0.0         0.0                  0.0     0.000000   \n",
       "2          0.0          0.0         2.0                  3.0     1.062500   \n",
       "3          0.0          0.0         0.0                  0.0     1.041667   \n",
       "4          0.0          0.0         1.0                 10.0     2.708333   \n",
       "\n",
       "   overhead_works  signal_works  track_works  \n",
       "0        0.000000      0.000000     0.000000  \n",
       "1        0.000000      0.000000     0.000000  \n",
       "2        0.829268      7.333333     7.750000  \n",
       "3        1.000000      0.000000     0.000000  \n",
       "4        4.439024     12.333333     8.722222  \n",
       "\n",
       "[5 rows x 176 columns]"
      ]
     },
     "execution_count": 5,
     "metadata": {},
     "output_type": "execute_result"
    }
   ],
   "source": [
    "X_test.head()"
   ]
  },
  {
   "cell_type": "code",
   "execution_count": 6,
   "id": "comprehensive-editor",
   "metadata": {},
   "outputs": [
    {
     "data": {
      "text/plain": [
       "0       1\n",
       "1       1\n",
       "2       1\n",
       "3       0\n",
       "4       0\n",
       "       ..\n",
       "2356    1\n",
       "2357    1\n",
       "2358    1\n",
       "2359    0\n",
       "2360    1\n",
       "Name: target, Length: 2361, dtype: int64"
      ]
     },
     "execution_count": 6,
     "metadata": {},
     "output_type": "execute_result"
    }
   ],
   "source": [
    "y_test"
   ]
  },
  {
   "cell_type": "markdown",
   "id": "front-synthesis",
   "metadata": {},
   "source": [
    "A quick visual inspection confirms that the test data is as expected and we have split it into features and target variable.\n",
    "\n",
    "The PCA version of the test data is also loaded."
   ]
  },
  {
   "cell_type": "code",
   "execution_count": 7,
   "id": "photographic-thanks",
   "metadata": {},
   "outputs": [],
   "source": [
    "X_test_pca = pd.read_csv('data/X_test_pca.csv')"
   ]
  },
  {
   "cell_type": "code",
   "execution_count": 8,
   "id": "imported-cisco",
   "metadata": {},
   "outputs": [
    {
     "data": {
      "text/html": [
       "<div>\n",
       "<style scoped>\n",
       "    .dataframe tbody tr th:only-of-type {\n",
       "        vertical-align: middle;\n",
       "    }\n",
       "\n",
       "    .dataframe tbody tr th {\n",
       "        vertical-align: top;\n",
       "    }\n",
       "\n",
       "    .dataframe thead th {\n",
       "        text-align: right;\n",
       "    }\n",
       "</style>\n",
       "<table border=\"1\" class=\"dataframe\">\n",
       "  <thead>\n",
       "    <tr style=\"text-align: right;\">\n",
       "      <th></th>\n",
       "      <th>0</th>\n",
       "      <th>1</th>\n",
       "      <th>2</th>\n",
       "      <th>3</th>\n",
       "      <th>4</th>\n",
       "      <th>5</th>\n",
       "      <th>6</th>\n",
       "      <th>7</th>\n",
       "      <th>8</th>\n",
       "      <th>9</th>\n",
       "      <th>...</th>\n",
       "      <th>11</th>\n",
       "      <th>12</th>\n",
       "      <th>13</th>\n",
       "      <th>14</th>\n",
       "      <th>15</th>\n",
       "      <th>16</th>\n",
       "      <th>17</th>\n",
       "      <th>18</th>\n",
       "      <th>19</th>\n",
       "      <th>20</th>\n",
       "    </tr>\n",
       "  </thead>\n",
       "  <tbody>\n",
       "    <tr>\n",
       "      <th>0</th>\n",
       "      <td>-3.595549</td>\n",
       "      <td>-0.703117</td>\n",
       "      <td>-0.315431</td>\n",
       "      <td>-1.208943</td>\n",
       "      <td>-0.792762</td>\n",
       "      <td>-0.174951</td>\n",
       "      <td>1.175692</td>\n",
       "      <td>0.044513</td>\n",
       "      <td>-0.180895</td>\n",
       "      <td>-0.973875</td>\n",
       "      <td>...</td>\n",
       "      <td>-0.032824</td>\n",
       "      <td>1.488325</td>\n",
       "      <td>0.183366</td>\n",
       "      <td>0.910617</td>\n",
       "      <td>-0.288381</td>\n",
       "      <td>0.496262</td>\n",
       "      <td>0.034162</td>\n",
       "      <td>0.234744</td>\n",
       "      <td>0.765456</td>\n",
       "      <td>-0.575328</td>\n",
       "    </tr>\n",
       "    <tr>\n",
       "      <th>1</th>\n",
       "      <td>-3.630532</td>\n",
       "      <td>-0.709797</td>\n",
       "      <td>-0.221362</td>\n",
       "      <td>-1.017210</td>\n",
       "      <td>-0.442104</td>\n",
       "      <td>0.523643</td>\n",
       "      <td>-0.221017</td>\n",
       "      <td>1.767352</td>\n",
       "      <td>1.341044</td>\n",
       "      <td>-0.158742</td>\n",
       "      <td>...</td>\n",
       "      <td>0.268944</td>\n",
       "      <td>1.040807</td>\n",
       "      <td>0.150501</td>\n",
       "      <td>-1.060787</td>\n",
       "      <td>0.592028</td>\n",
       "      <td>-0.131732</td>\n",
       "      <td>-0.069632</td>\n",
       "      <td>1.101277</td>\n",
       "      <td>1.153253</td>\n",
       "      <td>0.190096</td>\n",
       "    </tr>\n",
       "    <tr>\n",
       "      <th>2</th>\n",
       "      <td>5.092326</td>\n",
       "      <td>5.060610</td>\n",
       "      <td>3.447003</td>\n",
       "      <td>5.165206</td>\n",
       "      <td>0.747857</td>\n",
       "      <td>-0.058794</td>\n",
       "      <td>5.530317</td>\n",
       "      <td>2.029986</td>\n",
       "      <td>1.082065</td>\n",
       "      <td>0.143430</td>\n",
       "      <td>...</td>\n",
       "      <td>0.366414</td>\n",
       "      <td>0.575797</td>\n",
       "      <td>0.873088</td>\n",
       "      <td>0.461676</td>\n",
       "      <td>-2.276538</td>\n",
       "      <td>-0.571255</td>\n",
       "      <td>0.699176</td>\n",
       "      <td>-1.565234</td>\n",
       "      <td>-0.288978</td>\n",
       "      <td>-0.144670</td>\n",
       "    </tr>\n",
       "    <tr>\n",
       "      <th>3</th>\n",
       "      <td>-3.280172</td>\n",
       "      <td>-0.410859</td>\n",
       "      <td>0.792386</td>\n",
       "      <td>3.076331</td>\n",
       "      <td>1.187045</td>\n",
       "      <td>2.754310</td>\n",
       "      <td>-4.110757</td>\n",
       "      <td>-3.348170</td>\n",
       "      <td>1.014771</td>\n",
       "      <td>-0.119747</td>\n",
       "      <td>...</td>\n",
       "      <td>0.844355</td>\n",
       "      <td>0.717796</td>\n",
       "      <td>-0.082279</td>\n",
       "      <td>0.686325</td>\n",
       "      <td>-0.573795</td>\n",
       "      <td>-0.306936</td>\n",
       "      <td>0.729601</td>\n",
       "      <td>1.081932</td>\n",
       "      <td>-0.825624</td>\n",
       "      <td>0.277465</td>\n",
       "    </tr>\n",
       "    <tr>\n",
       "      <th>4</th>\n",
       "      <td>8.615913</td>\n",
       "      <td>10.528761</td>\n",
       "      <td>9.256113</td>\n",
       "      <td>0.426442</td>\n",
       "      <td>2.291799</td>\n",
       "      <td>2.441679</td>\n",
       "      <td>-1.303252</td>\n",
       "      <td>-1.605081</td>\n",
       "      <td>0.956471</td>\n",
       "      <td>-0.434788</td>\n",
       "      <td>...</td>\n",
       "      <td>-0.877392</td>\n",
       "      <td>0.362751</td>\n",
       "      <td>-0.237732</td>\n",
       "      <td>0.664275</td>\n",
       "      <td>0.061519</td>\n",
       "      <td>-0.095374</td>\n",
       "      <td>0.343151</td>\n",
       "      <td>1.057541</td>\n",
       "      <td>-0.588264</td>\n",
       "      <td>0.015348</td>\n",
       "    </tr>\n",
       "  </tbody>\n",
       "</table>\n",
       "<p>5 rows × 21 columns</p>\n",
       "</div>"
      ],
      "text/plain": [
       "          0          1         2         3         4         5         6  \\\n",
       "0 -3.595549  -0.703117 -0.315431 -1.208943 -0.792762 -0.174951  1.175692   \n",
       "1 -3.630532  -0.709797 -0.221362 -1.017210 -0.442104  0.523643 -0.221017   \n",
       "2  5.092326   5.060610  3.447003  5.165206  0.747857 -0.058794  5.530317   \n",
       "3 -3.280172  -0.410859  0.792386  3.076331  1.187045  2.754310 -4.110757   \n",
       "4  8.615913  10.528761  9.256113  0.426442  2.291799  2.441679 -1.303252   \n",
       "\n",
       "          7         8         9  ...        11        12        13        14  \\\n",
       "0  0.044513 -0.180895 -0.973875  ... -0.032824  1.488325  0.183366  0.910617   \n",
       "1  1.767352  1.341044 -0.158742  ...  0.268944  1.040807  0.150501 -1.060787   \n",
       "2  2.029986  1.082065  0.143430  ...  0.366414  0.575797  0.873088  0.461676   \n",
       "3 -3.348170  1.014771 -0.119747  ...  0.844355  0.717796 -0.082279  0.686325   \n",
       "4 -1.605081  0.956471 -0.434788  ... -0.877392  0.362751 -0.237732  0.664275   \n",
       "\n",
       "         15        16        17        18        19        20  \n",
       "0 -0.288381  0.496262  0.034162  0.234744  0.765456 -0.575328  \n",
       "1  0.592028 -0.131732 -0.069632  1.101277  1.153253  0.190096  \n",
       "2 -2.276538 -0.571255  0.699176 -1.565234 -0.288978 -0.144670  \n",
       "3 -0.573795 -0.306936  0.729601  1.081932 -0.825624  0.277465  \n",
       "4  0.061519 -0.095374  0.343151  1.057541 -0.588264  0.015348  \n",
       "\n",
       "[5 rows x 21 columns]"
      ]
     },
     "execution_count": 8,
     "metadata": {},
     "output_type": "execute_result"
    }
   ],
   "source": [
    "X_test_pca.head()"
   ]
  },
  {
   "cell_type": "markdown",
   "id": "infrared-mounting",
   "metadata": {},
   "source": [
    " "
   ]
  },
  {
   "cell_type": "markdown",
   "id": "cognitive-sacrifice",
   "metadata": {},
   "source": [
    "## Model Evaluation"
   ]
  },
  {
   "cell_type": "markdown",
   "id": "olympic-excerpt",
   "metadata": {},
   "source": [
    "We will need the summariser function once again:"
   ]
  },
  {
   "cell_type": "code",
   "execution_count": 9,
   "id": "offshore-particular",
   "metadata": {},
   "outputs": [],
   "source": [
    "def summary(model, features, target, title):\n",
    "    \n",
    "    '''\n",
    "    Model summariser\n",
    "    ----------------\n",
    "    \n",
    "    Parameters:\n",
    "    model: name of fitted model\n",
    "    features: X columns (e.g. X_val)\n",
    "    target: array of target values (e.g. y)\n",
    "    title: Title of confusion matrix ('')\n",
    "    \n",
    "    Returns:\n",
    "    Classification report & Confusion matrix\n",
    "    \n",
    "    '''\n",
    "    \n",
    "    \n",
    "    y_hat = model.predict(features)\n",
    "    report = classification_report(target, y_hat)\n",
    "    print(report)\n",
    "    \n",
    "    cf_matrix = confusion_matrix(target, y_hat)\n",
    "    ConfusionMatrixDisplay(cf_matrix).plot(cmap='viridis')\n",
    "    plt.title(title)\n",
    "    plt.show()"
   ]
  },
  {
   "cell_type": "markdown",
   "id": "geographic-nashville",
   "metadata": {},
   "source": [
    "### Logistic regression"
   ]
  },
  {
   "cell_type": "markdown",
   "id": "stable-retreat",
   "metadata": {},
   "source": [
    "##### Model_01_logit on scaled test data"
   ]
  },
  {
   "cell_type": "code",
   "execution_count": 10,
   "id": "stopped-trigger",
   "metadata": {},
   "outputs": [],
   "source": [
    "model_01_logit = pickle.load(open('model_01_logit.pkl', 'rb'))"
   ]
  },
  {
   "cell_type": "code",
   "execution_count": 11,
   "id": "everyday-drink",
   "metadata": {
    "scrolled": true
   },
   "outputs": [
    {
     "name": "stdout",
     "output_type": "stream",
     "text": [
      "MODEL 01 EVALUATION - Logistic Regression - scaled test data\n",
      "--------------------------------------------------------------\n",
      "Test accuracy: 0.8653113087674714\n",
      "Recall score: 0.8491525423728814\n",
      "Precision score: 0.8774080560420315\n"
     ]
    }
   ],
   "source": [
    "model_01_accuracy = model_01_logit.score(X_test, y_test)\n",
    "y_hat_model_01 = model_01_logit.predict(X_test)\n",
    "print('MODEL 01 EVALUATION - Logistic Regression - scaled test data')\n",
    "print('--------------------------------------------------------------')\n",
    "print(f'Test accuracy: {model_01_accuracy}')\n",
    "print(f'Recall score: {recall_score(y_test, y_hat_model_01)}')\n",
    "print(f'Precision score: {precision_score(y_test, y_hat_model_01)}')"
   ]
  },
  {
   "cell_type": "code",
   "execution_count": 12,
   "id": "japanese-shadow",
   "metadata": {},
   "outputs": [
    {
     "name": "stdout",
     "output_type": "stream",
     "text": [
      "              precision    recall  f1-score   support\n",
      "\n",
      "           0       0.85      0.88      0.87      1181\n",
      "           1       0.88      0.85      0.86      1180\n",
      "\n",
      "    accuracy                           0.87      2361\n",
      "   macro avg       0.87      0.87      0.87      2361\n",
      "weighted avg       0.87      0.87      0.87      2361\n",
      "\n"
     ]
    },
    {
     "data": {
      "image/png": "[encoded data removed]",
      "text/plain": [
       "<Figure size 432x288 with 2 Axes>"
      ]
     },
     "metadata": {
      "needs_background": "light"
     },
     "output_type": "display_data"
    }
   ],
   "source": [
    "summary(model_01_logit, X_test, y_test, 'Model_01 - logistic regression with scaled test data')"
   ]
  },
  {
   "cell_type": "markdown",
   "id": "mental-transmission",
   "metadata": {},
   "source": [
    " "
   ]
  },
  {
   "cell_type": "markdown",
   "id": "enormous-apache",
   "metadata": {},
   "source": [
    "##### Model_02_logit_pca on PCA test data"
   ]
  },
  {
   "cell_type": "code",
   "execution_count": 13,
   "id": "original-hazard",
   "metadata": {},
   "outputs": [],
   "source": [
    "model_02_logit_pca = pickle.load(open('model_02_logit_pca.pkl', 'rb'))"
   ]
  },
  {
   "cell_type": "code",
   "execution_count": 14,
   "id": "imported-experiment",
   "metadata": {},
   "outputs": [
    {
     "name": "stdout",
     "output_type": "stream",
     "text": [
      "MODEL 02 EVALUATION - Logistic Regression - PCA test data\n",
      "--------------------------------------------------------------\n",
      "Test accuracy: 0.8233799237611181\n",
      "Recall score: 0.7966101694915254\n",
      "Precision score: 0.8415398388540735\n"
     ]
    }
   ],
   "source": [
    "model_02_accuracy = model_02_logit_pca.score(X_test_pca, y_test)\n",
    "y_hat_model_02 = model_02_logit_pca.predict(X_test_pca)\n",
    "print('MODEL 02 EVALUATION - Logistic Regression - PCA test data')\n",
    "print('--------------------------------------------------------------')\n",
    "print(f'Test accuracy: {model_02_accuracy}')\n",
    "print(f'Recall score: {recall_score(y_test, y_hat_model_02)}')\n",
    "print(f'Precision score: {precision_score(y_test, y_hat_model_02)}')"
   ]
  },
  {
   "cell_type": "code",
   "execution_count": 15,
   "id": "white-right",
   "metadata": {},
   "outputs": [
    {
     "name": "stdout",
     "output_type": "stream",
     "text": [
      "              precision    recall  f1-score   support\n",
      "\n",
      "           0       0.81      0.85      0.83      1181\n",
      "           1       0.84      0.80      0.82      1180\n",
      "\n",
      "    accuracy                           0.82      2361\n",
      "   macro avg       0.82      0.82      0.82      2361\n",
      "weighted avg       0.82      0.82      0.82      2361\n",
      "\n"
     ]
    },
    {
     "data": {
      "image/png": "[encoded data removed]",
      "text/plain": [
       "<Figure size 432x288 with 2 Axes>"
      ]
     },
     "metadata": {
      "needs_background": "light"
     },
     "output_type": "display_data"
    }
   ],
   "source": [
    "summary(model_02_logit_pca, X_test_pca, y_test, 'Model_02 - logistic regression with PCA test data')"
   ]
  },
  {
   "cell_type": "markdown",
   "id": "lovely-supplier",
   "metadata": {},
   "source": [
    " "
   ]
  },
  {
   "cell_type": "markdown",
   "id": "drawn-centre",
   "metadata": {},
   "source": [
    "### Support Vector Machines"
   ]
  },
  {
   "cell_type": "markdown",
   "id": "opened-replacement",
   "metadata": {},
   "source": [
    "##### Model_03_svm on scaled test data"
   ]
  },
  {
   "cell_type": "code",
   "execution_count": 16,
   "id": "choice-progress",
   "metadata": {},
   "outputs": [],
   "source": [
    "model_03_svm = pickle.load(open('model_03_svm.pkl', 'rb'))"
   ]
  },
  {
   "cell_type": "code",
   "execution_count": 17,
   "id": "surface-match",
   "metadata": {
    "scrolled": true
   },
   "outputs": [
    {
     "name": "stdout",
     "output_type": "stream",
     "text": [
      "MODEL 03 EVALUATION - Support Vector Machine - scaled test data\n",
      "--------------------------------------------------------------\n",
      "Test accuracy: 0.8530283778060144\n",
      "Recall score: 0.8296610169491525\n",
      "Precision score: 0.8702222222222222\n"
     ]
    }
   ],
   "source": [
    "model_03_accuracy = model_03_svm.score(X_test, y_test)\n",
    "y_hat_model_03 = model_03_svm.predict(X_test)\n",
    "print('MODEL 03 EVALUATION - Support Vector Machine - scaled test data')\n",
    "print('--------------------------------------------------------------')\n",
    "print(f'Test accuracy: {model_03_accuracy}')\n",
    "print(f'Recall score: {recall_score(y_test, y_hat_model_03)}')\n",
    "print(f'Precision score: {precision_score(y_test, y_hat_model_03)}')"
   ]
  },
  {
   "cell_type": "code",
   "execution_count": 18,
   "id": "greater-authority",
   "metadata": {},
   "outputs": [
    {
     "name": "stdout",
     "output_type": "stream",
     "text": [
      "              precision    recall  f1-score   support\n",
      "\n",
      "           0       0.84      0.88      0.86      1181\n",
      "           1       0.87      0.83      0.85      1180\n",
      "\n",
      "    accuracy                           0.85      2361\n",
      "   macro avg       0.85      0.85      0.85      2361\n",
      "weighted avg       0.85      0.85      0.85      2361\n",
      "\n"
     ]
    },
    {
     "data": {
      "image/png": "[encoded data removed]",
      "text/plain": [
       "<Figure size 432x288 with 2 Axes>"
      ]
     },
     "metadata": {
      "needs_background": "light"
     },
     "output_type": "display_data"
    }
   ],
   "source": [
    "summary(model_03_svm, X_test, y_test, 'Model_03 - SVM with scaled test data')"
   ]
  },
  {
   "cell_type": "markdown",
   "id": "extraordinary-tucson",
   "metadata": {},
   "source": [
    " "
   ]
  },
  {
   "cell_type": "markdown",
   "id": "common-cholesterol",
   "metadata": {},
   "source": [
    "##### Model_04_svm_pca on PCA test data"
   ]
  },
  {
   "cell_type": "code",
   "execution_count": 19,
   "id": "nervous-dutch",
   "metadata": {},
   "outputs": [],
   "source": [
    "model_04_svm_pca = pickle.load(open('model_04_svm_pca.pkl', 'rb'))"
   ]
  },
  {
   "cell_type": "code",
   "execution_count": 20,
   "id": "contrary-racing",
   "metadata": {},
   "outputs": [
    {
     "name": "stdout",
     "output_type": "stream",
     "text": [
      "MODEL 04 EVALUATION - SVM - PCA test data\n",
      "--------------------------------------------------------------\n",
      "Test accuracy: 0.8581109699279966\n",
      "Recall score: 0.823728813559322\n",
      "Precision score: 0.8844404003639672\n"
     ]
    }
   ],
   "source": [
    "model_04_accuracy = model_04_svm_pca.score(X_test_pca, y_test)\n",
    "y_hat_model_04 = model_04_svm_pca.predict(X_test_pca)\n",
    "print('MODEL 04 EVALUATION - SVM - PCA test data')\n",
    "print('--------------------------------------------------------------')\n",
    "print(f'Test accuracy: {model_04_accuracy}')\n",
    "print(f'Recall score: {recall_score(y_test, y_hat_model_04)}')\n",
    "print(f'Precision score: {precision_score(y_test, y_hat_model_04)}')"
   ]
  },
  {
   "cell_type": "code",
   "execution_count": 21,
   "id": "signed-louisiana",
   "metadata": {},
   "outputs": [
    {
     "name": "stdout",
     "output_type": "stream",
     "text": [
      "              precision    recall  f1-score   support\n",
      "\n",
      "           0       0.84      0.89      0.86      1181\n",
      "           1       0.88      0.82      0.85      1180\n",
      "\n",
      "    accuracy                           0.86      2361\n",
      "   macro avg       0.86      0.86      0.86      2361\n",
      "weighted avg       0.86      0.86      0.86      2361\n",
      "\n"
     ]
    },
    {
     "data": {
      "image/png": "[encoded data removed]",
      "text/plain": [
       "<Figure size 432x288 with 2 Axes>"
      ]
     },
     "metadata": {
      "needs_background": "light"
     },
     "output_type": "display_data"
    }
   ],
   "source": [
    "summary(model_04_svm_pca, X_test_pca, y_test, 'Model_04 - SVM with PCA test data')"
   ]
  },
  {
   "cell_type": "markdown",
   "id": "clinical-table",
   "metadata": {},
   "source": [
    " "
   ]
  },
  {
   "cell_type": "markdown",
   "id": "driving-testament",
   "metadata": {},
   "source": [
    "### Random Forest Classifier"
   ]
  },
  {
   "cell_type": "markdown",
   "id": "significant-officer",
   "metadata": {},
   "source": [
    "##### Model_05_rf on scaled test data"
   ]
  },
  {
   "cell_type": "code",
   "execution_count": 22,
   "id": "public-catholic",
   "metadata": {},
   "outputs": [],
   "source": [
    "model_05_rf = pickle.load(open('model_05_rf.pkl', 'rb'))"
   ]
  },
  {
   "cell_type": "code",
   "execution_count": 23,
   "id": "democratic-warren",
   "metadata": {
    "scrolled": true
   },
   "outputs": [
    {
     "name": "stdout",
     "output_type": "stream",
     "text": [
      "MODEL 05 EVALUATION - Random Forest Classifier - scaled test data\n",
      "--------------------------------------------------------------\n",
      "Test accuracy: 0.8022024565861923\n",
      "Recall score: 0.8025423728813559\n",
      "Precision score: 0.8018628281117697\n"
     ]
    }
   ],
   "source": [
    "model_05_accuracy = model_05_rf.score(X_test, y_test)\n",
    "y_hat_model_05 = model_05_rf.predict(X_test)\n",
    "print('MODEL 05 EVALUATION - Random Forest Classifier - scaled test data')\n",
    "print('--------------------------------------------------------------')\n",
    "print(f'Test accuracy: {model_05_accuracy}')\n",
    "print(f'Recall score: {recall_score(y_test, y_hat_model_05)}')\n",
    "print(f'Precision score: {precision_score(y_test, y_hat_model_05)}')"
   ]
  },
  {
   "cell_type": "code",
   "execution_count": 24,
   "id": "statewide-supply",
   "metadata": {},
   "outputs": [
    {
     "name": "stdout",
     "output_type": "stream",
     "text": [
      "              precision    recall  f1-score   support\n",
      "\n",
      "           0       0.80      0.80      0.80      1181\n",
      "           1       0.80      0.80      0.80      1180\n",
      "\n",
      "    accuracy                           0.80      2361\n",
      "   macro avg       0.80      0.80      0.80      2361\n",
      "weighted avg       0.80      0.80      0.80      2361\n",
      "\n"
     ]
    },
    {
     "data": {
      "image/png": "[encoded data removed]",
      "text/plain": [
       "<Figure size 432x288 with 2 Axes>"
      ]
     },
     "metadata": {
      "needs_background": "light"
     },
     "output_type": "display_data"
    }
   ],
   "source": [
    "summary(model_05_rf, X_test, y_test, 'Model_05 - Random Forest Classifier with scaled test data')"
   ]
  },
  {
   "cell_type": "markdown",
   "id": "certified-hawaiian",
   "metadata": {},
   "source": [
    " "
   ]
  },
  {
   "cell_type": "markdown",
   "id": "executed-appearance",
   "metadata": {},
   "source": [
    "##### Model_06_rf_pca on PCA test data"
   ]
  },
  {
   "cell_type": "code",
   "execution_count": 25,
   "id": "sexual-highlight",
   "metadata": {},
   "outputs": [],
   "source": [
    "model_06_rf_pca = pickle.load(open('model_06_rf_pca.pkl', 'rb'))"
   ]
  },
  {
   "cell_type": "code",
   "execution_count": 26,
   "id": "committed-charity",
   "metadata": {},
   "outputs": [
    {
     "name": "stdout",
     "output_type": "stream",
     "text": [
      "MODEL 06 EVALUATION - Random Forest Classifier - PCA test data\n",
      "--------------------------------------------------------------\n",
      "Test accuracy: 0.7848369335027531\n",
      "Recall score: 0.7508474576271187\n",
      "Precision score: 0.8054545454545454\n"
     ]
    }
   ],
   "source": [
    "model_06_accuracy = model_06_rf_pca.score(X_test_pca, y_test)\n",
    "y_hat_model_06_pca = model_06_rf_pca.predict(X_test_pca)\n",
    "print('MODEL 06 EVALUATION - Random Forest Classifier - PCA test data')\n",
    "print('--------------------------------------------------------------')\n",
    "print(f'Test accuracy: {model_06_accuracy}')\n",
    "print(f'Recall score: {recall_score(y_test, y_hat_model_06_pca)}')\n",
    "print(f'Precision score: {precision_score(y_test, y_hat_model_06_pca)}')"
   ]
  },
  {
   "cell_type": "code",
   "execution_count": 27,
   "id": "optimum-bankruptcy",
   "metadata": {
    "scrolled": false
   },
   "outputs": [
    {
     "name": "stdout",
     "output_type": "stream",
     "text": [
      "              precision    recall  f1-score   support\n",
      "\n",
      "           0       0.77      0.82      0.79      1181\n",
      "           1       0.81      0.75      0.78      1180\n",
      "\n",
      "    accuracy                           0.78      2361\n",
      "   macro avg       0.79      0.78      0.78      2361\n",
      "weighted avg       0.79      0.78      0.78      2361\n",
      "\n"
     ]
    },
    {
     "data": {
      "image/png": "[encoded data removed]",
      "text/plain": [
       "<Figure size 432x288 with 2 Axes>"
      ]
     },
     "metadata": {
      "needs_background": "light"
     },
     "output_type": "display_data"
    }
   ],
   "source": [
    "summary(model_06_rf_pca, X_test_pca, y_test, 'Model_06 - Random Forest Classifier with PCA test data')"
   ]
  },
  {
   "cell_type": "markdown",
   "id": "another-forum",
   "metadata": {},
   "source": [
    " "
   ]
  },
  {
   "cell_type": "markdown",
   "id": "sudden-bearing",
   "metadata": {},
   "source": [
    "### XG Boost"
   ]
  },
  {
   "cell_type": "markdown",
   "id": "resident-reggae",
   "metadata": {},
   "source": [
    "##### Model_07_xgb on scaled test data"
   ]
  },
  {
   "cell_type": "code",
   "execution_count": 28,
   "id": "swiss-range",
   "metadata": {},
   "outputs": [],
   "source": [
    "model_07_xgb = pickle.load(open('model_07_xgb.pkl', 'rb'))"
   ]
  },
  {
   "cell_type": "code",
   "execution_count": 29,
   "id": "advanced-celebration",
   "metadata": {
    "scrolled": true
   },
   "outputs": [
    {
     "name": "stdout",
     "output_type": "stream",
     "text": [
      "MODEL 07 EVALUATION - XG Boost - scaled test data\n",
      "--------------------------------------------------------------\n",
      "Test accuracy: 0.8534519271495129\n",
      "Recall score: 0.8355932203389831\n",
      "Precision score: 0.8664323374340949\n"
     ]
    }
   ],
   "source": [
    "model_07_accuracy = model_07_xgb.score(np.array(X_test), y_test)     # array required here for XG Boost\n",
    "y_hat_model_07 = model_07_xgb.predict(np.array(X_test))\n",
    "print('MODEL 07 EVALUATION - XG Boost - scaled test data')\n",
    "print('--------------------------------------------------------------')\n",
    "print(f'Test accuracy: {model_07_accuracy}')\n",
    "print(f'Recall score: {recall_score(y_test, y_hat_model_07)}')\n",
    "print(f'Precision score: {precision_score(y_test, y_hat_model_07)}')"
   ]
  },
  {
   "cell_type": "code",
   "execution_count": 30,
   "id": "flying-treaty",
   "metadata": {},
   "outputs": [
    {
     "name": "stdout",
     "output_type": "stream",
     "text": [
      "              precision    recall  f1-score   support\n",
      "\n",
      "           0       0.84      0.87      0.86      1181\n",
      "           1       0.87      0.84      0.85      1180\n",
      "\n",
      "    accuracy                           0.85      2361\n",
      "   macro avg       0.85      0.85      0.85      2361\n",
      "weighted avg       0.85      0.85      0.85      2361\n",
      "\n"
     ]
    },
    {
     "data": {
      "image/png": "[encoded data removed]",
      "text/plain": [
       "<Figure size 432x288 with 2 Axes>"
      ]
     },
     "metadata": {
      "needs_background": "light"
     },
     "output_type": "display_data"
    }
   ],
   "source": [
    "summary(model_07_xgb, np.array(X_test), y_test, 'Model_07 - XG Boost Classifier with scaled test data')"
   ]
  },
  {
   "cell_type": "markdown",
   "id": "enclosed-acrylic",
   "metadata": {},
   "source": [
    " "
   ]
  },
  {
   "cell_type": "markdown",
   "id": "broke-pixel",
   "metadata": {},
   "source": [
    "##### Model_08_xgb_pca on PCA test data"
   ]
  },
  {
   "cell_type": "code",
   "execution_count": 31,
   "id": "limiting-jimmy",
   "metadata": {},
   "outputs": [],
   "source": [
    "model_08_xgb_pca = pickle.load(open('model_08_xgb_pca.pkl', 'rb'))"
   ]
  },
  {
   "cell_type": "code",
   "execution_count": 32,
   "id": "gross-lambda",
   "metadata": {},
   "outputs": [
    {
     "name": "stdout",
     "output_type": "stream",
     "text": [
      "MODEL 08 EVALUATION - XG Boost - PCA test data\n",
      "--------------------------------------------------------------\n",
      "Test accuracy: 0.795425667090216\n",
      "Recall score: 0.7779661016949152\n",
      "Precision score: 0.8059701492537313\n"
     ]
    }
   ],
   "source": [
    "model_08_accuracy = model_08_xgb_pca.score(np.array(X_test_pca), y_test)\n",
    "y_hat_model_08_pca = model_08_xgb_pca.predict(np.array(X_test_pca))\n",
    "print('MODEL 08 EVALUATION - XG Boost - PCA test data')\n",
    "print('--------------------------------------------------------------')\n",
    "print(f'Test accuracy: {model_08_accuracy}')\n",
    "print(f'Recall score: {recall_score(y_test, y_hat_model_08_pca)}')\n",
    "print(f'Precision score: {precision_score(y_test, y_hat_model_08_pca)}')"
   ]
  },
  {
   "cell_type": "code",
   "execution_count": 33,
   "id": "saving-candle",
   "metadata": {
    "scrolled": false
   },
   "outputs": [
    {
     "name": "stdout",
     "output_type": "stream",
     "text": [
      "              precision    recall  f1-score   support\n",
      "\n",
      "           0       0.79      0.81      0.80      1181\n",
      "           1       0.81      0.78      0.79      1180\n",
      "\n",
      "    accuracy                           0.80      2361\n",
      "   macro avg       0.80      0.80      0.80      2361\n",
      "weighted avg       0.80      0.80      0.80      2361\n",
      "\n"
     ]
    },
    {
     "data": {
      "image/png": "[encoded data removed]",
      "text/plain": [
       "<Figure size 432x288 with 2 Axes>"
      ]
     },
     "metadata": {
      "needs_background": "light"
     },
     "output_type": "display_data"
    }
   ],
   "source": [
    "summary(model_08_xgb_pca, np.array(X_test_pca), y_test, 'Model_08 - XG Boost Classifier with PCA test data')"
   ]
  },
  {
   "cell_type": "markdown",
   "id": "raised-thing",
   "metadata": {},
   "source": [
    " "
   ]
  },
  {
   "cell_type": "markdown",
   "id": "confidential-covering",
   "metadata": {},
   "source": [
    "### Keras convolutional neural network"
   ]
  },
  {
   "cell_type": "markdown",
   "id": "geographic-exemption",
   "metadata": {},
   "source": [
    "##### Model_09_keras on scaled test data"
   ]
  },
  {
   "cell_type": "code",
   "execution_count": 34,
   "id": "indian-violence",
   "metadata": {},
   "outputs": [],
   "source": [
    "model_09_keras = keras.models.load_model('model_09_keras')"
   ]
  },
  {
   "cell_type": "code",
   "execution_count": 35,
   "id": "spoken-compact",
   "metadata": {},
   "outputs": [
    {
     "name": "stdout",
     "output_type": "stream",
     "text": [
      "74/74 [==============================] - 1s 1ms/step - loss: 0.3420 - binary_accuracy: 0.8873\n",
      "Test accuracy: 0.8873358964920044\n"
     ]
    }
   ],
   "source": [
    "test_scores = model_09_keras.evaluate(X_test, y_test)\n",
    "print(f'Test accuracy: {test_scores[1]}')"
   ]
  },
  {
   "cell_type": "code",
   "execution_count": 36,
   "id": "colored-consumption",
   "metadata": {},
   "outputs": [],
   "source": [
    "y_hat_model_09 = model_09_keras.predict(X_test)"
   ]
  },
  {
   "cell_type": "code",
   "execution_count": 37,
   "id": "vocal-rugby",
   "metadata": {},
   "outputs": [
    {
     "name": "stdout",
     "output_type": "stream",
     "text": [
      "              precision    recall  f1-score   support\n",
      "\n",
      "           0       0.89      0.88      0.89      1181\n",
      "           1       0.88      0.89      0.89      1180\n",
      "\n",
      "    accuracy                           0.89      2361\n",
      "   macro avg       0.89      0.89      0.89      2361\n",
      "weighted avg       0.89      0.89      0.89      2361\n",
      "\n"
     ]
    }
   ],
   "source": [
    "report_newmodel = classification_report(y_test, np.round(y_hat_model_09,0))    # predictions must be rounded to binary integers\n",
    "print(report_newmodel)"
   ]
  },
  {
   "cell_type": "code",
   "execution_count": 38,
   "id": "requested-arrest",
   "metadata": {},
   "outputs": [
    {
     "data": {
      "image/png": "[encoded data removed]",
      "text/plain": [
       "<Figure size 432x288 with 2 Axes>"
      ]
     },
     "metadata": {
      "needs_background": "light"
     },
     "output_type": "display_data"
    }
   ],
   "source": [
    "cf_matrix = confusion_matrix(y_test, np.round(y_hat_model_09,0))\n",
    "\n",
    "ConfusionMatrixDisplay(cf_matrix).plot(cmap='viridis')\n",
    "plt.title('Model_09 - Keras ConvNet with scaled test data')\n",
    "plt.show()"
   ]
  },
  {
   "cell_type": "markdown",
   "id": "modern-enclosure",
   "metadata": {},
   "source": [
    " "
   ]
  },
  {
   "cell_type": "markdown",
   "id": "significant-malaysia",
   "metadata": {},
   "source": [
    "##### Model_10_keras_pca on PCA test data"
   ]
  },
  {
   "cell_type": "code",
   "execution_count": 39,
   "id": "printable-panama",
   "metadata": {},
   "outputs": [],
   "source": [
    "model_10_keras_pca = keras.models.load_model('model_10_keras_pca')"
   ]
  },
  {
   "cell_type": "code",
   "execution_count": 40,
   "id": "considered-final",
   "metadata": {},
   "outputs": [
    {
     "name": "stdout",
     "output_type": "stream",
     "text": [
      "74/74 [==============================] - 0s 994us/step - loss: 0.3012 - binary_accuracy: 0.8818\n",
      "Test accuracy: 0.8818297386169434\n"
     ]
    }
   ],
   "source": [
    "test_scores = model_10_keras_pca.evaluate(X_test_pca, y_test)\n",
    "print(f'Test accuracy: {test_scores[1]}')"
   ]
  },
  {
   "cell_type": "code",
   "execution_count": 41,
   "id": "lonely-europe",
   "metadata": {},
   "outputs": [],
   "source": [
    "y_hat_model_10 = model_10_keras_pca.predict(X_test_pca)"
   ]
  },
  {
   "cell_type": "code",
   "execution_count": 42,
   "id": "electrical-subscriber",
   "metadata": {},
   "outputs": [
    {
     "name": "stdout",
     "output_type": "stream",
     "text": [
      "              precision    recall  f1-score   support\n",
      "\n",
      "           0       0.85      0.92      0.89      1181\n",
      "           1       0.91      0.84      0.88      1180\n",
      "\n",
      "    accuracy                           0.88      2361\n",
      "   macro avg       0.88      0.88      0.88      2361\n",
      "weighted avg       0.88      0.88      0.88      2361\n",
      "\n"
     ]
    }
   ],
   "source": [
    "report_newmodel = classification_report(y_test, np.round(y_hat_model_10,0))    # predictions must be rounded to binary integers\n",
    "print(report_newmodel)"
   ]
  },
  {
   "cell_type": "code",
   "execution_count": 43,
   "id": "visible-tolerance",
   "metadata": {},
   "outputs": [
    {
     "data": {
      "image/png": "[encoded data removed]",
      "text/plain": [
       "<Figure size 432x288 with 2 Axes>"
      ]
     },
     "metadata": {
      "needs_background": "light"
     },
     "output_type": "display_data"
    }
   ],
   "source": [
    "cf_matrix = confusion_matrix(y_test, np.round(y_hat_model_10,0))\n",
    "\n",
    "ConfusionMatrixDisplay(cf_matrix).plot(cmap='viridis')\n",
    "plt.title('Model_10 - Keras ConvNet with PCA test data')\n",
    "plt.show()"
   ]
  },
  {
   "cell_type": "markdown",
   "id": "suburban-vanilla",
   "metadata": {},
   "source": [
    " "
   ]
  },
  {
   "cell_type": "markdown",
   "id": "young-bonus",
   "metadata": {},
   "source": [
    "**N.B.** Please find comments and insights on these evaluations in the separate white paper."
   ]
  }
 ],
 "metadata": {
  "kernelspec": {
   "display_name": "Python 3",
   "language": "python",
   "name": "python3"
  },
  "language_info": {
   "codemirror_mode": {
    "name": "ipython",
    "version": 3
   },
   "file_extension": ".py",
   "mimetype": "text/x-python",
   "name": "python",
   "nbconvert_exporter": "python",
   "pygments_lexer": "ipython3",
   "version": "3.8.8"
  },
  "toc": {
   "base_numbering": 1,
   "nav_menu": {},
   "number_sections": false,
   "sideBar": true,
   "skip_h1_title": false,
   "title_cell": "Table of Contents",
   "title_sidebar": "Contents",
   "toc_cell": false,
   "toc_position": {},
   "toc_section_display": true,
   "toc_window_display": true
  }
 },
 "nbformat": 4,
 "nbformat_minor": 5
}
